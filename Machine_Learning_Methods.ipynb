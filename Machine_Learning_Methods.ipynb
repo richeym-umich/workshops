{
  "nbformat": 4,
  "nbformat_minor": 0,
  "metadata": {
    "colab": {
      "name": "Machine Learning Methods.ipynb",
      "provenance": [],
      "authorship_tag": "ABX9TyNBBcIEO5BN7c8WDTlNS2OD",
      "include_colab_link": true
    },
    "kernelspec": {
      "name": "python3",
      "display_name": "Python 3"
    }
  },
  "cells": [
    {
      "cell_type": "markdown",
      "metadata": {
        "id": "view-in-github",
        "colab_type": "text"
      },
      "source": [
        "<a href=\"https://colab.research.google.com/github/richeym-umich/workshops/blob/main/Machine_Learning_Methods.ipynb\" target=\"_parent\"><img src=\"https://colab.research.google.com/assets/colab-badge.svg\" alt=\"Open In Colab\"/></a>"
      ]
    },
    {
      "cell_type": "markdown",
      "metadata": {
        "id": "7GVGwdI4tDRe"
      },
      "source": [
        "### **Reinforcement Learning**\r\n",
        "\r\n"
      ]
    },
    {
      "cell_type": "markdown",
      "metadata": {
        "id": "EhToHcoRiKVt"
      },
      "source": [
        "The following is an example of a reinforcement learning application. The functions are predefined, and we will step through running each part of the code"
      ]
    },
    {
      "cell_type": "code",
      "metadata": {
        "id": "1WkuKrQ0s7jA"
      },
      "source": [
        "import numpy as np\r\n",
        "import networkx as nx\r\n",
        "import matplotlib.pyplot as plt"
      ],
      "execution_count": null,
      "outputs": []
    },
    {
      "cell_type": "markdown",
      "metadata": {
        "id": "yXkqSpTiitG5"
      },
      "source": [
        "First, we define a list of points by their connections"
      ]
    },
    {
      "cell_type": "code",
      "metadata": {
        "id": "-DpcGfPOigee"
      },
      "source": [
        "points_list = [(0,1), (1,5), (5,6), (5,4), (1,2), (2,3), (2,7)]"
      ],
      "execution_count": null,
      "outputs": []
    },
    {
      "cell_type": "markdown",
      "metadata": {
        "id": "LzvYZdX-iy4j"
      },
      "source": [
        "Next, we add the points to a graph and visualize the graph"
      ]
    },
    {
      "cell_type": "code",
      "metadata": {
        "id": "fW_DLpoTi52l",
        "colab": {
          "base_uri": "https://localhost:8080/",
          "height": 248
        },
        "outputId": "3bc233d5-b80b-46d2-bf87-a58656521506"
      },
      "source": [
        "goal = 7\r\n",
        "G = nx.Graph()\r\n",
        "G.add_edges_from(points_list)\r\n",
        "pos = nx.spring_layout(G)\r\n",
        "nx.draw_networkx_nodes(G, pos, node_size=[200,200,200,200,200,200,200,200])\r\n",
        "nx.draw_networkx_edges(G, pos)\r\n",
        "nx.draw_networkx_labels(G, pos)\r\n",
        "plt.show()"
      ],
      "execution_count": null,
      "outputs": [
        {
          "output_type": "display_data",
          "data": {
            "image/png": "[encoded data removed]",
            "text/plain": [
              "<Figure size 432x288 with 1 Axes>"
            ]
          },
          "metadata": {
            "tags": []
          }
        }
      ]
    },
    {
      "cell_type": "markdown",
      "metadata": {
        "id": "8JGaogN2lJBp"
      },
      "source": [
        "Next, we create our reward matrix"
      ]
    },
    {
      "cell_type": "code",
      "metadata": {
        "id": "qIwyCWV9lP0U",
        "outputId": "b170ab93-7d9a-41f5-ec78-138bcaf33d0e",
        "colab": {
          "base_uri": "https://localhost:8080/"
        }
      },
      "source": [
        "MATRIX_SIZE = 8\r\n",
        "\r\n",
        "#create matrix x*y\r\n",
        "R = np.matrix(np.ones(shape=(MATRIX_SIZE, MATRIX_SIZE)))\r\n",
        "R *= -1\r\n",
        "\r\n",
        "#assign zeros to paths and 100 to goal-reaching point\r\n",
        "for point in points_list:\r\n",
        "    print(point)\r\n",
        "    if point[1] == goal:\r\n",
        "        R[point] = 100\r\n",
        "    else:\r\n",
        "        R[point]=0\r\n",
        "\r\n",
        "    if point[0] == goal:\r\n",
        "        R[point[::-1]] = 100\r\n",
        "    else:\r\n",
        "        R[point[::-1]] = 0\r\n",
        "\r\n",
        "R[goal,goal] = 100\r\n",
        "\r\n",
        "Q = np.matrix(np.zeros([MATRIX_SIZE, MATRIX_SIZE]))"
      ],
      "execution_count": 4,
      "outputs": [
        {
          "output_type": "stream",
          "text": [
            "(0, 1)\n",
            "(1, 5)\n",
            "(5, 6)\n",
            "(5, 4)\n",
            "(1, 2)\n",
            "(2, 3)\n",
            "(2, 7)\n"
          ],
          "name": "stdout"
        }
      ]
    },
    {
      "cell_type": "markdown",
      "metadata": {
        "id": "jwaT32M4njby"
      },
      "source": [
        "Set our learning parameter and initial state"
      ]
    },
    {
      "cell_type": "code",
      "metadata": {
        "id": "SUh_6mMgnnyG"
      },
      "source": [
        "#learning parameter\r\n",
        "gamma = 0.8\r\n",
        "\r\n",
        "initial_state = 1"
      ],
      "execution_count": null,
      "outputs": []
    }
  ]
}