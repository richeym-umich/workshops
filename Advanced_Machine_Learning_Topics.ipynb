{
  "nbformat": 4,
  "nbformat_minor": 0,
  "metadata": {
    "colab": {
      "name": "Advanced Machine Learning Topics.ipynb",
      "provenance": [],
      "authorship_tag": "ABX9TyNcgg3MHSC10FqwG8bC1IXf",
      "include_colab_link": true
    },
    "kernelspec": {
      "name": "python3",
      "display_name": "Python 3"
    }
  },
  "cells": [
    {
      "cell_type": "markdown",
      "metadata": {
        "id": "view-in-github",
        "colab_type": "text"
      },
      "source": [
        "<a href=\"https://colab.research.google.com/github/richeym-umich/workshops/blob/main/Advanced_Machine_Learning_Topics.ipynb\" target=\"_parent\"><img src=\"https://colab.research.google.com/assets/colab-badge.svg\" alt=\"Open In Colab\"/></a>"
      ]
    },
    {
      "cell_type": "markdown",
      "metadata": {
        "id": "RwpIFoZ2rtHD"
      },
      "source": [
        "### **Classification**"
      ]
    },
    {
      "cell_type": "markdown",
      "metadata": {
        "id": "vqsGqyq2rwl0"
      },
      "source": [
        "The following is an example of a classification application using the K nearest neighbors classifier in the scikit learn package"
      ]
    },
    {
      "cell_type": "code",
      "metadata": {
        "id": "Khgv7_PWsKGZ"
      },
      "source": [
        "from sklearn import preprocessing\r\n",
        "from sklearn.neighbors import KNeighborsClassifier"
      ],
      "execution_count": null,
      "outputs": []
    },
    {
      "cell_type": "code",
      "metadata": {
        "id": "51qb4TncsCEC"
      },
      "source": [
        "# Assigning features and label variables\r\n",
        "# First Feature\r\n",
        "weather=['Sunny','Sunny','Overcast','Rainy','Rainy','Rainy','Overcast','Sunny','Sunny',\r\n",
        "'Rainy','Sunny','Overcast','Overcast','Rainy']\r\n",
        "# Second Feature\r\n",
        "temp=['Hot','Hot','Hot','Mild','Cool','Cool','Cool','Mild','Cool','Mild','Mild','Mild','Hot','Mild']\r\n",
        "\r\n",
        "# Label or target varible\r\n",
        "play=['No','No','Yes','Yes','Yes','No','Yes','No','Yes','Yes','Yes','Yes','Yes','No']"
      ],
      "execution_count": null,
      "outputs": []
    },
    {
      "cell_type": "code",
      "metadata": {
        "id": "I1wE_8pusRz_",
        "colab": {
          "base_uri": "https://localhost:8080/"
        },
        "outputId": "70f77fa6-5281-42cd-9b67-cb37c9ffc8d8"
      },
      "source": [
        "#creating labelEncoder\r\n",
        "le = preprocessing.LabelEncoder()\r\n",
        "# Converting string labels into numbers.\r\n",
        "weather_encoded=le.fit_transform(weather)\r\n",
        "print(weather_encoded)"
      ],
      "execution_count": null,
      "outputs": [
        {
          "output_type": "stream",
          "text": [
            "[2 2 0 1 1 1 0 2 2 1 2 0 0 1]\n"
          ],
          "name": "stdout"
        }
      ]
    },
    {
      "cell_type": "code",
      "metadata": {
        "id": "MEHS4a_1soX7"
      },
      "source": [
        "# converting string labels into numbers\r\n",
        "temp_encoded=le.fit_transform(temp)\r\n",
        "label=le.fit_transform(play)"
      ],
      "execution_count": null,
      "outputs": []
    },
    {
      "cell_type": "code",
      "metadata": {
        "id": "IVlNLyf6spKz"
      },
      "source": [
        "#combining weather and temp into single listof tuples\r\n",
        "features=list(zip(weather_encoded,temp_encoded))"
      ],
      "execution_count": null,
      "outputs": []
    },
    {
      "cell_type": "code",
      "metadata": {
        "id": "TgveyHYostJT",
        "colab": {
          "base_uri": "https://localhost:8080/"
        },
        "outputId": "92d6af98-e51f-4b53-b151-727c116f0673"
      },
      "source": [
        "model = KNeighborsClassifier(n_neighbors=3)\r\n",
        "\r\n",
        "# Train the model using the training sets\r\n",
        "model.fit(features,label)\r\n",
        "\r\n",
        "#Predict Output\r\n",
        "predicted= model.predict([[0,2]]) # 0:Overcast, 2:Mild\r\n",
        "print(\"Should the team play in these conditions?: \" + str(le.inverse_transform(predicted)))"
      ],
      "execution_count": null,
      "outputs": [
        {
          "output_type": "stream",
          "text": [
            "Should the team play in these conditions?: ['Yes']\n"
          ],
          "name": "stdout"
        }
      ]
    },
    {
      "cell_type": "code",
      "metadata": {
        "id": "KRY3JYouvza1",
        "colab": {
          "base_uri": "https://localhost:8080/"
        },
        "outputId": "b9903bc8-822d-41f8-9394-22b52a27d401"
      },
      "source": [
        ""
      ],
      "execution_count": null,
      "outputs": [
        {
          "output_type": "execute_result",
          "data": {
            "text/plain": [
              "LabelEncoder()"
            ]
          },
          "metadata": {
            "tags": []
          },
          "execution_count": 9
        }
      ]
    },
    {
      "cell_type": "markdown",
      "metadata": {
        "id": "7GVGwdI4tDRe"
      },
      "source": [
        "### **Reinforcement Learning**\r\n",
        "\r\n"
      ]
    },
    {
      "cell_type": "markdown",
      "metadata": {
        "id": "EhToHcoRiKVt"
      },
      "source": [
        "The following is an example of a reinforcement learning application. The functions are predefined, and we will step through running each part of the code"
      ]
    },
    {
      "cell_type": "code",
      "metadata": {
        "id": "1WkuKrQ0s7jA"
      },
      "source": [
        "import numpy as np\r\n",
        "import networkx as nx\r\n",
        "import matplotlib.pyplot as plt"
      ],
      "execution_count": null,
      "outputs": []
    },
    {
      "cell_type": "markdown",
      "metadata": {
        "id": "yXkqSpTiitG5"
      },
      "source": [
        "First, we define a list of points by their connections"
      ]
    },
    {
      "cell_type": "code",
      "metadata": {
        "id": "-DpcGfPOigee"
      },
      "source": [
        "points_list = [(0,1), (1,5), (5,6), (5,4), (1,2), (2,3), (2,7)]"
      ],
      "execution_count": null,
      "outputs": []
    },
    {
      "cell_type": "markdown",
      "metadata": {
        "id": "LzvYZdX-iy4j"
      },
      "source": [
        "Next, we add the points to a graph and visualize the graph"
      ]
    },
    {
      "cell_type": "code",
      "metadata": {
        "id": "fW_DLpoTi52l",
        "colab": {
          "base_uri": "https://localhost:8080/",
          "height": 248
        },
        "outputId": "3bc233d5-b80b-46d2-bf87-a58656521506"
      },
      "source": [
        "goal = 7\r\n",
        "G = nx.Graph()\r\n",
        "G.add_edges_from(points_list)\r\n",
        "pos = nx.spring_layout(G)\r\n",
        "nx.draw_networkx_nodes(G, pos, node_size=[200,200,200,200,200,200,200,200])\r\n",
        "nx.draw_networkx_edges(G, pos)\r\n",
        "nx.draw_networkx_labels(G, pos)\r\n",
        "plt.show()"
      ],
      "execution_count": null,
      "outputs": [
        {
          "output_type": "display_data",
          "data": {
            "image/png": "[encoded data removed]",
            "text/plain": [
              "<Figure size 432x288 with 1 Axes>"
            ]
          },
          "metadata": {
            "tags": []
          }
        }
      ]
    },
    {
      "cell_type": "markdown",
      "metadata": {
        "id": "8JGaogN2lJBp"
      },
      "source": [
        "Next, we create our reward matrix"
      ]
    },
    {
      "cell_type": "code",
      "metadata": {
        "colab": {
          "base_uri": "https://localhost:8080/"
        },
        "id": "qIwyCWV9lP0U",
        "outputId": "11b90b2a-cb58-46fd-e303-e80401813056"
      },
      "source": [
        "MATRIX_SIZE = 8\r\n",
        "\r\n",
        "#create matrix x*y\r\n",
        "R = np.matrix(np.ones(shape=(MATRIX_SIZE, MATRIX_SIZE)))\r\n",
        "R *= -1\r\n",
        "\r\n",
        "#assign zeros to paths and 100 to goal-reaching point\r\n",
        "for point in points_list:\r\n",
        "    print(point)\r\n",
        "    if point[1] == goal:\r\n",
        "        R[point] = 100\r\n",
        "    else:\r\n",
        "        R[point]=0\r\n",
        "\r\n",
        "    if point[0] == goal:\r\n",
        "        R[point[::-1]] = 100\r\n",
        "    else:\r\n",
        "        R[point[::-1]] = 0\r\n",
        "\r\n",
        "R[goal,goal] = 100\r\n",
        "\r\n",
        "Q = np.matrix(np.zeros([MATRIX_SIZE, MATRIX_SIZE]))"
      ],
      "execution_count": null,
      "outputs": [
        {
          "output_type": "stream",
          "text": [
            "(0, 1)\n",
            "(1, 5)\n",
            "(5, 6)\n",
            "(5, 4)\n",
            "(1, 2)\n",
            "(2, 3)\n",
            "(2, 7)\n"
          ],
          "name": "stdout"
        }
      ]
    },
    {
      "cell_type": "markdown",
      "metadata": {
        "id": "jwaT32M4njby"
      },
      "source": [
        "Set our learning parameter"
      ]
    },
    {
      "cell_type": "code",
      "metadata": {
        "id": "SUh_6mMgnnyG"
      },
      "source": [
        "#learning parameter\r\n",
        "gamma = 0.8"
      ],
      "execution_count": null,
      "outputs": []
    },
    {
      "cell_type": "markdown",
      "metadata": {
        "id": "SzayoroTpFTX"
      },
      "source": [
        "Function to find our available actions from our current state"
      ]
    },
    {
      "cell_type": "code",
      "metadata": {
        "id": "nl-DJB4KpJhZ"
      },
      "source": [
        "def available_actions(state):\r\n",
        "    current_state_row = R[state,]\r\n",
        "    av_act = np.where(current_state_row >= 0)[1]\r\n",
        "    return av_act"
      ],
      "execution_count": null,
      "outputs": []
    },
    {
      "cell_type": "markdown",
      "metadata": {
        "id": "UxCChQ3ipMDM"
      },
      "source": [
        "Function to choose our next action from our current state and available actions"
      ]
    },
    {
      "cell_type": "code",
      "metadata": {
        "id": "oEGTi5qCpP4v"
      },
      "source": [
        "def sample_next_action(available_actions_range):\r\n",
        "    next_action = int(np.random.choice(available_act, 1))\r\n",
        "    return next_action"
      ],
      "execution_count": null,
      "outputs": []
    },
    {
      "cell_type": "markdown",
      "metadata": {
        "id": "vledcHWepSBr"
      },
      "source": [
        "Function to update the state of our actor with our chosen action"
      ]
    },
    {
      "cell_type": "code",
      "metadata": {
        "id": "xeB51HoRpXay"
      },
      "source": [
        "def update(current_state, action, gamma):\r\n",
        "    max_index = np.where(Q[action,] == np.max(Q[action,]))[1]\r\n",
        "\r\n",
        "    if max_index.shape[0] > 1:\r\n",
        "        max_index = int(np.random.choice(max_index, size=1))\r\n",
        "    else:\r\n",
        "        max_index = int(max_index)\r\n",
        "\r\n",
        "    max_value = Q[action, max_index]\r\n",
        "\r\n",
        "    Q[current_state,action] = R[current_state, action] + gamma*max_value\r\n",
        "\r\n",
        "    if(np.max(Q) > 0):\r\n",
        "        return(np.sum(Q/np.max(Q)*100))\r\n",
        "    else:\r\n",
        "        return(0)"
      ],
      "execution_count": null,
      "outputs": []
    },
    {
      "cell_type": "markdown",
      "metadata": {
        "id": "19YHVwtipbOv"
      },
      "source": [
        "Now that our code has been set up, we need to train our reinforcement learning model"
      ]
    },
    {
      "cell_type": "code",
      "metadata": {
        "colab": {
          "base_uri": "https://localhost:8080/"
        },
        "id": "1czo75LBpezw",
        "outputId": "3e06e866-fe25-40ea-fbb9-38e6f37e80f9"
      },
      "source": [
        "#Training\r\n",
        "scores = []\r\n",
        "for i in range(700):\r\n",
        "    current_state = np.random.randint(0, int(Q.shape[0]))\r\n",
        "    available_act = available_actions(current_state)\r\n",
        "    action = sample_next_action(available_act)\r\n",
        "    score = update(current_state,action,gamma)\r\n",
        "    scores.append(score)\r\n",
        "\r\n",
        "print(\"Trained Q matrix: \")\r\n",
        "print(Q/np.max(Q)*100)"
      ],
      "execution_count": null,
      "outputs": [
        {
          "output_type": "stream",
          "text": [
            "Trained Q matrix: \n",
            "[[  0.          63.99999998   0.           0.           0.\n",
            "    0.           0.           0.        ]\n",
            " [ 51.19999998   0.          79.99999997   0.           0.\n",
            "   51.19999998   0.           0.        ]\n",
            " [  0.          63.99999973   0.          63.99999998   0.\n",
            "    0.           0.         100.        ]\n",
            " [  0.           0.          80.           0.           0.\n",
            "    0.           0.           0.        ]\n",
            " [  0.           0.           0.           0.           0.\n",
            "   51.19999998   0.           0.        ]\n",
            " [  0.          63.99999998   0.           0.          40.95999998\n",
            "    0.          40.95999998   0.        ]\n",
            " [  0.           0.           0.           0.           0.\n",
            "   51.19999998   0.           0.        ]\n",
            " [  0.           0.          79.99999997   0.           0.\n",
            "    0.           0.          99.99999998]]\n"
          ],
          "name": "stdout"
        }
      ]
    },
    {
      "cell_type": "markdown",
      "metadata": {
        "id": "M28Q7u49phYE"
      },
      "source": [
        "Finally, we test our model and output the learning results"
      ]
    },
    {
      "cell_type": "code",
      "metadata": {
        "colab": {
          "base_uri": "https://localhost:8080/",
          "height": 299
        },
        "id": "ZTApaUsJplTM",
        "outputId": "4fe80cad-9890-4e26-f748-93034b1c461f"
      },
      "source": [
        "#Testing\r\n",
        "current_state=0\r\n",
        "steps = [current_state]\r\n",
        "\r\n",
        "while current_state != 7:\r\n",
        "    next_step_index = np.where(Q[current_state,] == np.max(Q[current_state,]))[1]\r\n",
        "\r\n",
        "    if next_step_index.shape[0] > 1:\r\n",
        "        next_step_index = int(np.random.choice(next_step_index, size=1))\r\n",
        "    else:\r\n",
        "        next_step_index = int(next_step_index)\r\n",
        "    steps.append(next_step_index)\r\n",
        "    current_state = next_step_index\r\n",
        "print(\"Most efficient path: \")\r\n",
        "print(steps)\r\n",
        "\r\n",
        "plt.plot(scores)\r\n",
        "plt.show()"
      ],
      "execution_count": null,
      "outputs": [
        {
          "output_type": "stream",
          "text": [
            "Most efficient path: \n",
            "[0, 1, 2, 7]\n"
          ],
          "name": "stdout"
        },
        {
          "output_type": "display_data",
          "data": {
            "image/png": "[encoded data removed]",
            "text/plain": [
              "<Figure size 432x288 with 1 Axes>"
            ]
          },
          "metadata": {
            "tags": [],
            "needs_background": "light"
          }
        }
      ]
    },
    {
      "cell_type": "code",
      "metadata": {
        "id": "BAwUNxENAUWS",
        "outputId": "9a713be2-fd6d-48e9-c72c-6efbbef256da",
        "colab": {
          "base_uri": "https://localhost:8080/",
          "height": 204
        }
      },
      "source": [
        "import pandas as pd\r\n",
        "from sklearn.cluster import KMeans, SpectralClustering\r\n",
        "from sklearn.preprocessing import StandardScaler\r\n",
        "import numpy as np\r\n",
        "\r\n",
        "url = 'https://raw.githubusercontent.com/richeym-umich/workshops/main/basketball_data.csv'\r\n",
        "df = pd.read_csv(url)\r\n",
        "df.head()\r\n"
      ],
      "execution_count": 2,
      "outputs": [
        {
          "output_type": "execute_result",
          "data": {
            "text/html": [
              "<div>\n",
              "<style scoped>\n",
              "    .dataframe tbody tr th:only-of-type {\n",
              "        vertical-align: middle;\n",
              "    }\n",
              "\n",
              "    .dataframe tbody tr th {\n",
              "        vertical-align: top;\n",
              "    }\n",
              "\n",
              "    .dataframe thead th {\n",
              "        text-align: right;\n",
              "    }\n",
              "</style>\n",
              "<table border=\"1\" class=\"dataframe\">\n",
              "  <thead>\n",
              "    <tr style=\"text-align: right;\">\n",
              "      <th></th>\n",
              "      <th>Player</th>\n",
              "      <th>GP</th>\n",
              "      <th>GS</th>\n",
              "      <th>PTS</th>\n",
              "      <th>FGM</th>\n",
              "      <th>FGA</th>\n",
              "      <th>FTM</th>\n",
              "      <th>FTA</th>\n",
              "      <th>3FGM</th>\n",
              "      <th>3FGA</th>\n",
              "      <th>OREB</th>\n",
              "      <th>DREB</th>\n",
              "      <th>AST</th>\n",
              "      <th>STL</th>\n",
              "      <th>BLK</th>\n",
              "      <th>TO</th>\n",
              "      <th>PF</th>\n",
              "    </tr>\n",
              "  </thead>\n",
              "  <tbody>\n",
              "    <tr>\n",
              "      <th>0</th>\n",
              "      <td>1</td>\n",
              "      <td>16</td>\n",
              "      <td>14</td>\n",
              "      <td>13</td>\n",
              "      <td>4</td>\n",
              "      <td>4</td>\n",
              "      <td>5</td>\n",
              "      <td>9</td>\n",
              "      <td>0</td>\n",
              "      <td>6</td>\n",
              "      <td>10</td>\n",
              "      <td>13</td>\n",
              "      <td>3</td>\n",
              "      <td>7</td>\n",
              "      <td>9</td>\n",
              "      <td>10</td>\n",
              "      <td>0</td>\n",
              "    </tr>\n",
              "    <tr>\n",
              "      <th>1</th>\n",
              "      <td>2</td>\n",
              "      <td>172</td>\n",
              "      <td>139</td>\n",
              "      <td>26</td>\n",
              "      <td>12</td>\n",
              "      <td>9</td>\n",
              "      <td>2</td>\n",
              "      <td>7</td>\n",
              "      <td>0</td>\n",
              "      <td>9</td>\n",
              "      <td>26</td>\n",
              "      <td>5</td>\n",
              "      <td>14</td>\n",
              "      <td>9</td>\n",
              "      <td>3</td>\n",
              "      <td>6</td>\n",
              "      <td>0</td>\n",
              "    </tr>\n",
              "    <tr>\n",
              "      <th>2</th>\n",
              "      <td>3</td>\n",
              "      <td>168</td>\n",
              "      <td>72</td>\n",
              "      <td>6</td>\n",
              "      <td>3</td>\n",
              "      <td>14</td>\n",
              "      <td>0</td>\n",
              "      <td>5</td>\n",
              "      <td>0</td>\n",
              "      <td>5</td>\n",
              "      <td>25</td>\n",
              "      <td>12</td>\n",
              "      <td>1</td>\n",
              "      <td>1</td>\n",
              "      <td>5</td>\n",
              "      <td>0</td>\n",
              "      <td>5</td>\n",
              "    </tr>\n",
              "    <tr>\n",
              "      <th>3</th>\n",
              "      <td>4</td>\n",
              "      <td>175</td>\n",
              "      <td>84</td>\n",
              "      <td>22</td>\n",
              "      <td>4</td>\n",
              "      <td>8</td>\n",
              "      <td>14</td>\n",
              "      <td>19</td>\n",
              "      <td>0</td>\n",
              "      <td>10</td>\n",
              "      <td>23</td>\n",
              "      <td>10</td>\n",
              "      <td>8</td>\n",
              "      <td>7</td>\n",
              "      <td>13</td>\n",
              "      <td>7</td>\n",
              "      <td>4</td>\n",
              "    </tr>\n",
              "    <tr>\n",
              "      <th>4</th>\n",
              "      <td>5</td>\n",
              "      <td>169</td>\n",
              "      <td>46</td>\n",
              "      <td>1</td>\n",
              "      <td>0</td>\n",
              "      <td>15</td>\n",
              "      <td>1</td>\n",
              "      <td>5</td>\n",
              "      <td>0</td>\n",
              "      <td>8</td>\n",
              "      <td>22</td>\n",
              "      <td>30</td>\n",
              "      <td>10</td>\n",
              "      <td>0</td>\n",
              "      <td>19</td>\n",
              "      <td>4</td>\n",
              "      <td>0</td>\n",
              "    </tr>\n",
              "  </tbody>\n",
              "</table>\n",
              "</div>"
            ],
            "text/plain": [
              "   Player   GP   GS  PTS  FGM  FGA  FTM  ...  OREB  DREB  AST  STL  BLK  TO  PF\n",
              "0       1   16   14   13    4    4    5  ...    10    13    3    7    9  10   0\n",
              "1       2  172  139   26   12    9    2  ...    26     5   14    9    3   6   0\n",
              "2       3  168   72    6    3   14    0  ...    25    12    1    1    5   0   5\n",
              "3       4  175   84   22    4    8   14  ...    23    10    8    7   13   7   4\n",
              "4       5  169   46    1    0   15    1  ...    22    30   10    0   19   4   0\n",
              "\n",
              "[5 rows x 17 columns]"
            ]
          },
          "metadata": {
            "tags": []
          },
          "execution_count": 2
        }
      ]
    },
    {
      "cell_type": "code",
      "metadata": {
        "id": "hBwkWpD6Bbjx"
      },
      "source": [
        "X_std = StandardScaler().fit_transform(df)\r\n",
        "\r\n",
        "# Run local implementation of kmeans\r\n",
        "km = KMeans(n_clusters=5, max_iter=300)\r\n",
        "km.fit(X_std)\r\n",
        "label = km.fit_predict(X_std)"
      ],
      "execution_count": 23,
      "outputs": []
    },
    {
      "cell_type": "code",
      "metadata": {
        "id": "WlHkoCI6BlXi",
        "outputId": "68400d90-6bad-4ae1-9abf-1695c7123706",
        "colab": {
          "base_uri": "https://localhost:8080/",
          "height": 204
        }
      },
      "source": [
        "#Getting unique labels\r\n",
        "import matplotlib.pyplot as plt\r\n",
        "\r\n",
        "df['label'] = label\r\n",
        "\r\n",
        "df.head()\r\n",
        "#plotting the results\r\n",
        "#plt.scatter(numbers[:,0] , filtered_label0[:,1])\r\n",
        "#plt.show()"
      ],
      "execution_count": 29,
      "outputs": [
        {
          "output_type": "execute_result",
          "data": {
            "text/html": [
              "<div>\n",
              "<style scoped>\n",
              "    .dataframe tbody tr th:only-of-type {\n",
              "        vertical-align: middle;\n",
              "    }\n",
              "\n",
              "    .dataframe tbody tr th {\n",
              "        vertical-align: top;\n",
              "    }\n",
              "\n",
              "    .dataframe thead th {\n",
              "        text-align: right;\n",
              "    }\n",
              "</style>\n",
              "<table border=\"1\" class=\"dataframe\">\n",
              "  <thead>\n",
              "    <tr style=\"text-align: right;\">\n",
              "      <th></th>\n",
              "      <th>Player</th>\n",
              "      <th>GP</th>\n",
              "      <th>GS</th>\n",
              "      <th>PTS</th>\n",
              "      <th>FGM</th>\n",
              "      <th>FGA</th>\n",
              "      <th>FTM</th>\n",
              "      <th>FTA</th>\n",
              "      <th>3FGM</th>\n",
              "      <th>3FGA</th>\n",
              "      <th>OREB</th>\n",
              "      <th>DREB</th>\n",
              "      <th>AST</th>\n",
              "      <th>STL</th>\n",
              "      <th>BLK</th>\n",
              "      <th>TO</th>\n",
              "      <th>PF</th>\n",
              "      <th>label</th>\n",
              "    </tr>\n",
              "  </thead>\n",
              "  <tbody>\n",
              "    <tr>\n",
              "      <th>0</th>\n",
              "      <td>1</td>\n",
              "      <td>16</td>\n",
              "      <td>14</td>\n",
              "      <td>13</td>\n",
              "      <td>4</td>\n",
              "      <td>4</td>\n",
              "      <td>5</td>\n",
              "      <td>9</td>\n",
              "      <td>0</td>\n",
              "      <td>6</td>\n",
              "      <td>10</td>\n",
              "      <td>13</td>\n",
              "      <td>3</td>\n",
              "      <td>7</td>\n",
              "      <td>9</td>\n",
              "      <td>10</td>\n",
              "      <td>0</td>\n",
              "      <td>4</td>\n",
              "    </tr>\n",
              "    <tr>\n",
              "      <th>1</th>\n",
              "      <td>2</td>\n",
              "      <td>172</td>\n",
              "      <td>139</td>\n",
              "      <td>26</td>\n",
              "      <td>12</td>\n",
              "      <td>9</td>\n",
              "      <td>2</td>\n",
              "      <td>7</td>\n",
              "      <td>0</td>\n",
              "      <td>9</td>\n",
              "      <td>26</td>\n",
              "      <td>5</td>\n",
              "      <td>14</td>\n",
              "      <td>9</td>\n",
              "      <td>3</td>\n",
              "      <td>6</td>\n",
              "      <td>0</td>\n",
              "      <td>0</td>\n",
              "    </tr>\n",
              "    <tr>\n",
              "      <th>2</th>\n",
              "      <td>3</td>\n",
              "      <td>168</td>\n",
              "      <td>72</td>\n",
              "      <td>6</td>\n",
              "      <td>3</td>\n",
              "      <td>14</td>\n",
              "      <td>0</td>\n",
              "      <td>5</td>\n",
              "      <td>0</td>\n",
              "      <td>5</td>\n",
              "      <td>25</td>\n",
              "      <td>12</td>\n",
              "      <td>1</td>\n",
              "      <td>1</td>\n",
              "      <td>5</td>\n",
              "      <td>0</td>\n",
              "      <td>5</td>\n",
              "      <td>0</td>\n",
              "    </tr>\n",
              "    <tr>\n",
              "      <th>3</th>\n",
              "      <td>4</td>\n",
              "      <td>175</td>\n",
              "      <td>84</td>\n",
              "      <td>22</td>\n",
              "      <td>4</td>\n",
              "      <td>8</td>\n",
              "      <td>14</td>\n",
              "      <td>19</td>\n",
              "      <td>0</td>\n",
              "      <td>10</td>\n",
              "      <td>23</td>\n",
              "      <td>10</td>\n",
              "      <td>8</td>\n",
              "      <td>7</td>\n",
              "      <td>13</td>\n",
              "      <td>7</td>\n",
              "      <td>4</td>\n",
              "      <td>2</td>\n",
              "    </tr>\n",
              "    <tr>\n",
              "      <th>4</th>\n",
              "      <td>5</td>\n",
              "      <td>169</td>\n",
              "      <td>46</td>\n",
              "      <td>1</td>\n",
              "      <td>0</td>\n",
              "      <td>15</td>\n",
              "      <td>1</td>\n",
              "      <td>5</td>\n",
              "      <td>0</td>\n",
              "      <td>8</td>\n",
              "      <td>22</td>\n",
              "      <td>30</td>\n",
              "      <td>10</td>\n",
              "      <td>0</td>\n",
              "      <td>19</td>\n",
              "      <td>4</td>\n",
              "      <td>0</td>\n",
              "      <td>0</td>\n",
              "    </tr>\n",
              "  </tbody>\n",
              "</table>\n",
              "</div>"
            ],
            "text/plain": [
              "   Player   GP   GS  PTS  FGM  FGA  FTM  ...  DREB  AST  STL  BLK  TO  PF  label\n",
              "0       1   16   14   13    4    4    5  ...    13    3    7    9  10   0      4\n",
              "1       2  172  139   26   12    9    2  ...     5   14    9    3   6   0      0\n",
              "2       3  168   72    6    3   14    0  ...    12    1    1    5   0   5      0\n",
              "3       4  175   84   22    4    8   14  ...    10    8    7   13   7   4      2\n",
              "4       5  169   46    1    0   15    1  ...    30   10    0   19   4   0      0\n",
              "\n",
              "[5 rows x 18 columns]"
            ]
          },
          "metadata": {
            "tags": []
          },
          "execution_count": 29
        }
      ]
    },
    {
      "cell_type": "code",
      "metadata": {
        "id": "tI1qz0sZC5F6",
        "outputId": "ed7c8818-50c1-4627-85f3-3b18fb53302f",
        "colab": {
          "base_uri": "https://localhost:8080/",
          "height": 265
        }
      },
      "source": [
        "plt.scatter(df['label'], df['GP'])\r\n",
        "plt.show()"
      ],
      "execution_count": 33,
      "outputs": [
        {
          "output_type": "display_data",
          "data": {
            "image/png": "[encoded data removed]",
            "text/plain": [
              "<Figure size 432x288 with 1 Axes>"
            ]
          },
          "metadata": {
            "tags": [],
            "needs_background": "light"
          }
        }
      ]
    },
    {
      "cell_type": "code",
      "metadata": {
        "id": "hcbxsuIrEZX4"
      },
      "source": [
        "X=df.iloc[:, [1,4]].values\r\n",
        "from sklearn.cluster import KMeans\r\n",
        "import matplotlib.pyplot as plt\r\n",
        "kmeans = KMeans(n_clusters=5, init ='k-means++', max_iter=300, n_init=10,random_state=0 )\r\n",
        "# We are going to use the fit predict method that returns for each #observation which cluster it belongs to. The cluster to which #client belongs and it will return this cluster numbers into a #single vector that is  called y K-means\r\n",
        "y_kmeans = kmeans.fit_predict(X)"
      ],
      "execution_count": 13,
      "outputs": []
    },
    {
      "cell_type": "code",
      "metadata": {
        "id": "4dNFczsinLWU",
        "outputId": "ca351ff7-0d7b-4066-efd9-4fe0ef4f1e32",
        "colab": {
          "base_uri": "https://localhost:8080/",
          "height": 295
        }
      },
      "source": [
        "plt.scatter(X[y_kmeans==0, 0], X[y_kmeans==0, 1], s=100, c='red', label ='Cluster 1')\r\n",
        "plt.scatter(X[y_kmeans==1, 0], X[y_kmeans==1, 1], s=100, c='blue', label ='Cluster 2')\r\n",
        "plt.scatter(X[y_kmeans==2, 0], X[y_kmeans==2, 1], s=100, c='green', label ='Cluster 3')\r\n",
        "plt.scatter(X[y_kmeans==3, 0], X[y_kmeans==3, 1], s=100, c='cyan', label ='Cluster 4')\r\n",
        "plt.scatter(X[y_kmeans==4, 0], X[y_kmeans==4, 1], s=100, c='magenta', label ='Cluster 5')\r\n",
        "#Plot the centroid. This time we're going to use the cluster centres  #attribute that returns here the coordinates of the centroid.\r\n",
        "plt.scatter(kmeans.cluster_centers_[:, 0], kmeans.cluster_centers_[:, 1], s=300, c='yellow', label = 'Centroids')\r\n",
        "plt.title('Clusters of Players')\r\n",
        "plt.xlabel('Games Played')\r\n",
        "plt.ylabel('Points Scored')\r\n",
        "plt.show()"
      ],
      "execution_count": 14,
      "outputs": [
        {
          "output_type": "display_data",
          "data": {
            "image/png": "[encoded data removed]",
            "text/plain": [
              "<Figure size 432x288 with 1 Axes>"
            ]
          },
          "metadata": {
            "tags": [],
            "needs_background": "light"
          }
        }
      ]
    },
    {
      "cell_type": "markdown",
      "metadata": {
        "id": "kCMTxcjpeJgI"
      },
      "source": [
        "### Detecting Parkinsons Disease"
      ]
    },
    {
      "cell_type": "code",
      "metadata": {
        "id": "DUqbCSC2eOSd"
      },
      "source": [
        "from sklearn.ensemble import RandomForestClassifier\r\n",
        "from sklearn.preprocessing import LabelEncoder\r\n",
        "from sklearn.metrics import confusion_matrix\r\n",
        "from skimage import feature\r\n",
        "from imutils import build_montages\r\n",
        "from imutils import paths\r\n",
        "import numpy as np\r\n",
        "import argparse\r\n",
        "import cv2\r\n",
        "import os"
      ],
      "execution_count": 15,
      "outputs": []
    },
    {
      "cell_type": "code",
      "metadata": {
        "id": "aaf6Jnugef9i"
      },
      "source": [
        "def quantify_image(image):\r\n",
        "  features = feature.hog(image, orientations=9, pixels_per_cell=(10,10), cells_per_block=(2,2), transform_sqrt=True, block_norm=\"L1\")\r\n",
        "  return features\r\n",
        "\r\n",
        "def load_split(path):\r\n",
        "  imagePaths = list(paths.list_images(path))\r\n",
        "  data = []\r\n",
        "  labels = []\r\n",
        "\r\n",
        "  for imagePath in imagePaths:\r\n",
        "    label = imagePath.split(os.path.sep)[-2]\r\n",
        "    image = cv2.imread(imagePath)\r\n",
        "    image = cv2.cvtColor(image, cv2.COLOR_BGR2GRAY)\r\n",
        "    image = cv2.resize(image, (200,200))\r\n",
        "\r\n",
        "    image = cv2.threshold(image, 0, 255, cv2.THRESH_BINARY_INV | cv2.THRESH_OTSU)[1]\r\n",
        "\r\n",
        "    features = quantify_image(image)\r\n",
        "    data.append(features)\r\n",
        "    labels.append(label)\r\n",
        "\r\n",
        "  return (np.array(data), np.array(labels))"
      ],
      "execution_count": 17,
      "outputs": []
    },
    {
      "cell_type": "code",
      "metadata": {
        "id": "59e0xmnZesAr"
      },
      "source": [
        "#ARG PARSING HERE\r\n",
        "datasetPath = ''\r\n"
      ],
      "execution_count": 18,
      "outputs": []
    },
    {
      "cell_type": "code",
      "metadata": {
        "id": "3I-YRBvSwwRV"
      },
      "source": [
        "trainingPath = os.path.sep.join([datasetPath, 'training'])\r\n",
        "testingPath = os.path.sep.join([datasetPath, 'testing'])\r\n",
        "print('[INFO] loading data...')\r\n",
        "(trainX, trainY) = load_split(trainingPath)\r\n",
        "(testX, testY) = load_split(testingPath)"
      ],
      "execution_count": null,
      "outputs": []
    }
  ]
}