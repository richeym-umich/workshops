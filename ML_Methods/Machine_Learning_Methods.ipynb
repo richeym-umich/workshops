{
  "nbformat": 4,
  "nbformat_minor": 0,
  "metadata": {
    "colab": {
      "name": "Machine Learning Methods.ipynb",
      "provenance": [],
      "authorship_tag": "ABX9TyNdm26WcHt6Nvv2JH7RGUVR",
      "include_colab_link": true
    },
    "kernelspec": {
      "name": "python3",
      "display_name": "Python 3"
    }
  },
  "cells": [
    {
      "cell_type": "markdown",
      "metadata": {
        "id": "view-in-github",
        "colab_type": "text"
      },
      "source": [
        "<a href=\"https://colab.research.google.com/github/richeym-umich/workshops/blob/main/Machine_Learning_Methods.ipynb\" target=\"_parent\"><img src=\"https://colab.research.google.com/assets/colab-badge.svg\" alt=\"Open In Colab\"/></a>"
      ]
    },
    {
      "cell_type": "markdown",
      "metadata": {
        "id": "RwpIFoZ2rtHD"
      },
      "source": [
        "### **Classification**"
      ]
    },
    {
      "cell_type": "markdown",
      "metadata": {
        "id": "vqsGqyq2rwl0"
      },
      "source": [
        "The following is an example of a classification application using the K nearest neighbors classifier in the scikit learn package"
      ]
    },
    {
      "cell_type": "code",
      "metadata": {
        "id": "Khgv7_PWsKGZ"
      },
      "source": [
        "from sklearn import preprocessing\r\n",
        "from sklearn.neighbors import KNeighborsClassifier"
      ],
      "execution_count": 3,
      "outputs": []
    },
    {
      "cell_type": "code",
      "metadata": {
        "id": "51qb4TncsCEC"
      },
      "source": [
        "# Assigning features and label variables\r\n",
        "# First Feature\r\n",
        "weather=['Sunny','Sunny','Overcast','Rainy','Rainy','Rainy','Overcast','Sunny','Sunny',\r\n",
        "'Rainy','Sunny','Overcast','Overcast','Rainy']\r\n",
        "# Second Feature\r\n",
        "temp=['Hot','Hot','Hot','Mild','Cool','Cool','Cool','Mild','Cool','Mild','Mild','Mild','Hot','Mild']\r\n",
        "\r\n",
        "# Label or target varible\r\n",
        "play=['No','No','Yes','Yes','Yes','No','Yes','No','Yes','Yes','Yes','Yes','Yes','No']"
      ],
      "execution_count": 1,
      "outputs": []
    },
    {
      "cell_type": "code",
      "metadata": {
        "id": "I1wE_8pusRz_",
        "outputId": "70f77fa6-5281-42cd-9b67-cb37c9ffc8d8",
        "colab": {
          "base_uri": "https://localhost:8080/"
        }
      },
      "source": [
        "#creating labelEncoder\r\n",
        "le = preprocessing.LabelEncoder()\r\n",
        "# Converting string labels into numbers.\r\n",
        "weather_encoded=le.fit_transform(weather)\r\n",
        "print(weather_encoded)"
      ],
      "execution_count": 5,
      "outputs": [
        {
          "output_type": "stream",
          "text": [
            "[2 2 0 1 1 1 0 2 2 1 2 0 0 1]\n"
          ],
          "name": "stdout"
        }
      ]
    },
    {
      "cell_type": "code",
      "metadata": {
        "id": "MEHS4a_1soX7"
      },
      "source": [
        "# converting string labels into numbers\r\n",
        "temp_encoded=le.fit_transform(temp)\r\n",
        "label=le.fit_transform(play)"
      ],
      "execution_count": 6,
      "outputs": []
    },
    {
      "cell_type": "code",
      "metadata": {
        "id": "IVlNLyf6spKz"
      },
      "source": [
        "#combining weather and temp into single listof tuples\r\n",
        "features=list(zip(weather_encoded,temp_encoded))"
      ],
      "execution_count": 7,
      "outputs": []
    },
    {
      "cell_type": "code",
      "metadata": {
        "id": "TgveyHYostJT",
        "outputId": "92d6af98-e51f-4b53-b151-727c116f0673",
        "colab": {
          "base_uri": "https://localhost:8080/"
        }
      },
      "source": [
        "model = KNeighborsClassifier(n_neighbors=3)\r\n",
        "\r\n",
        "# Train the model using the training sets\r\n",
        "model.fit(features,label)\r\n",
        "\r\n",
        "#Predict Output\r\n",
        "predicted= model.predict([[0,2]]) # 0:Overcast, 2:Mild\r\n",
        "print(\"Should the team play in these conditions?: \" + str(le.inverse_transform(predicted)))"
      ],
      "execution_count": 12,
      "outputs": [
        {
          "output_type": "stream",
          "text": [
            "Should the team play in these conditions?: ['Yes']\n"
          ],
          "name": "stdout"
        }
      ]
    },
    {
      "cell_type": "code",
      "metadata": {
        "id": "KRY3JYouvza1",
        "outputId": "b9903bc8-822d-41f8-9394-22b52a27d401",
        "colab": {
          "base_uri": "https://localhost:8080/"
        }
      },
      "source": [
        ""
      ],
      "execution_count": 9,
      "outputs": [
        {
          "output_type": "execute_result",
          "data": {
            "text/plain": [
              "LabelEncoder()"
            ]
          },
          "metadata": {
            "tags": []
          },
          "execution_count": 9
        }
      ]
    },
    {
      "cell_type": "markdown",
      "metadata": {
        "id": "7GVGwdI4tDRe"
      },
      "source": [
        "### **Reinforcement Learning**\r\n",
        "\r\n"
      ]
    },
    {
      "cell_type": "markdown",
      "metadata": {
        "id": "EhToHcoRiKVt"
      },
      "source": [
        "The following is an example of a reinforcement learning application. The functions are predefined, and we will step through running each part of the code"
      ]
    },
    {
      "cell_type": "code",
      "metadata": {
        "id": "1WkuKrQ0s7jA"
      },
      "source": [
        "import numpy as np\r\n",
        "import networkx as nx\r\n",
        "import matplotlib.pyplot as plt"
      ],
      "execution_count": null,
      "outputs": []
    },
    {
      "cell_type": "markdown",
      "metadata": {
        "id": "yXkqSpTiitG5"
      },
      "source": [
        "First, we define a list of points by their connections"
      ]
    },
    {
      "cell_type": "code",
      "metadata": {
        "id": "-DpcGfPOigee"
      },
      "source": [
        "points_list = [(0,1), (1,5), (5,6), (5,4), (1,2), (2,3), (2,7)]"
      ],
      "execution_count": null,
      "outputs": []
    },
    {
      "cell_type": "markdown",
      "metadata": {
        "id": "LzvYZdX-iy4j"
      },
      "source": [
        "Next, we add the points to a graph and visualize the graph"
      ]
    },
    {
      "cell_type": "code",
      "metadata": {
        "id": "fW_DLpoTi52l",
        "colab": {
          "base_uri": "https://localhost:8080/",
          "height": 248
        },
        "outputId": "3bc233d5-b80b-46d2-bf87-a58656521506"
      },
      "source": [
        "goal = 7\r\n",
        "G = nx.Graph()\r\n",
        "G.add_edges_from(points_list)\r\n",
        "pos = nx.spring_layout(G)\r\n",
        "nx.draw_networkx_nodes(G, pos, node_size=[200,200,200,200,200,200,200,200])\r\n",
        "nx.draw_networkx_edges(G, pos)\r\n",
        "nx.draw_networkx_labels(G, pos)\r\n",
        "plt.show()"
      ],
      "execution_count": null,
      "outputs": [
        {
          "output_type": "display_data",
          "data": {
            "image/png": "[encoded data removed]",
            "text/plain": [
              "<Figure size 432x288 with 1 Axes>"
            ]
          },
          "metadata": {
            "tags": []
          }
        }
      ]
    },
    {
      "cell_type": "markdown",
      "metadata": {
        "id": "8JGaogN2lJBp"
      },
      "source": [
        "Next, we create our reward matrix"
      ]
    },
    {
      "cell_type": "code",
      "metadata": {
        "colab": {
          "base_uri": "https://localhost:8080/"
        },
        "id": "qIwyCWV9lP0U",
        "outputId": "11b90b2a-cb58-46fd-e303-e80401813056"
      },
      "source": [
        "MATRIX_SIZE = 8\r\n",
        "\r\n",
        "#create matrix x*y\r\n",
        "R = np.matrix(np.ones(shape=(MATRIX_SIZE, MATRIX_SIZE)))\r\n",
        "R *= -1\r\n",
        "\r\n",
        "#assign zeros to paths and 100 to goal-reaching point\r\n",
        "for point in points_list:\r\n",
        "    print(point)\r\n",
        "    if point[1] == goal:\r\n",
        "        R[point] = 100\r\n",
        "    else:\r\n",
        "        R[point]=0\r\n",
        "\r\n",
        "    if point[0] == goal:\r\n",
        "        R[point[::-1]] = 100\r\n",
        "    else:\r\n",
        "        R[point[::-1]] = 0\r\n",
        "\r\n",
        "R[goal,goal] = 100\r\n",
        "\r\n",
        "Q = np.matrix(np.zeros([MATRIX_SIZE, MATRIX_SIZE]))"
      ],
      "execution_count": null,
      "outputs": [
        {
          "output_type": "stream",
          "text": [
            "(0, 1)\n",
            "(1, 5)\n",
            "(5, 6)\n",
            "(5, 4)\n",
            "(1, 2)\n",
            "(2, 3)\n",
            "(2, 7)\n"
          ],
          "name": "stdout"
        }
      ]
    },
    {
      "cell_type": "markdown",
      "metadata": {
        "id": "jwaT32M4njby"
      },
      "source": [
        "Set our learning parameter"
      ]
    },
    {
      "cell_type": "code",
      "metadata": {
        "id": "SUh_6mMgnnyG"
      },
      "source": [
        "#learning parameter\r\n",
        "gamma = 0.8"
      ],
      "execution_count": null,
      "outputs": []
    },
    {
      "cell_type": "markdown",
      "metadata": {
        "id": "SzayoroTpFTX"
      },
      "source": [
        "Function to find our available actions from our current state"
      ]
    },
    {
      "cell_type": "code",
      "metadata": {
        "id": "nl-DJB4KpJhZ"
      },
      "source": [
        "def available_actions(state):\r\n",
        "    current_state_row = R[state,]\r\n",
        "    av_act = np.where(current_state_row >= 0)[1]\r\n",
        "    return av_act"
      ],
      "execution_count": null,
      "outputs": []
    },
    {
      "cell_type": "markdown",
      "metadata": {
        "id": "UxCChQ3ipMDM"
      },
      "source": [
        "Function to choose our next action from our current state and available actions"
      ]
    },
    {
      "cell_type": "code",
      "metadata": {
        "id": "oEGTi5qCpP4v"
      },
      "source": [
        "def sample_next_action(available_actions_range):\r\n",
        "    next_action = int(np.random.choice(available_act, 1))\r\n",
        "    return next_action"
      ],
      "execution_count": null,
      "outputs": []
    },
    {
      "cell_type": "markdown",
      "metadata": {
        "id": "vledcHWepSBr"
      },
      "source": [
        "Function to update the state of our actor with our chosen action"
      ]
    },
    {
      "cell_type": "code",
      "metadata": {
        "id": "xeB51HoRpXay"
      },
      "source": [
        "def update(current_state, action, gamma):\r\n",
        "    max_index = np.where(Q[action,] == np.max(Q[action,]))[1]\r\n",
        "\r\n",
        "    if max_index.shape[0] > 1:\r\n",
        "        max_index = int(np.random.choice(max_index, size=1))\r\n",
        "    else:\r\n",
        "        max_index = int(max_index)\r\n",
        "\r\n",
        "    max_value = Q[action, max_index]\r\n",
        "\r\n",
        "    Q[current_state,action] = R[current_state, action] + gamma*max_value\r\n",
        "\r\n",
        "    if(np.max(Q) > 0):\r\n",
        "        return(np.sum(Q/np.max(Q)*100))\r\n",
        "    else:\r\n",
        "        return(0)"
      ],
      "execution_count": null,
      "outputs": []
    },
    {
      "cell_type": "markdown",
      "metadata": {
        "id": "19YHVwtipbOv"
      },
      "source": [
        "Now that our code has been set up, we need to train our reinforcement learning model"
      ]
    },
    {
      "cell_type": "code",
      "metadata": {
        "colab": {
          "base_uri": "https://localhost:8080/"
        },
        "id": "1czo75LBpezw",
        "outputId": "3e06e866-fe25-40ea-fbb9-38e6f37e80f9"
      },
      "source": [
        "#Training\r\n",
        "scores = []\r\n",
        "for i in range(700):\r\n",
        "    current_state = np.random.randint(0, int(Q.shape[0]))\r\n",
        "    available_act = available_actions(current_state)\r\n",
        "    action = sample_next_action(available_act)\r\n",
        "    score = update(current_state,action,gamma)\r\n",
        "    scores.append(score)\r\n",
        "\r\n",
        "print(\"Trained Q matrix: \")\r\n",
        "print(Q/np.max(Q)*100)"
      ],
      "execution_count": null,
      "outputs": [
        {
          "output_type": "stream",
          "text": [
            "Trained Q matrix: \n",
            "[[  0.          63.99999998   0.           0.           0.\n",
            "    0.           0.           0.        ]\n",
            " [ 51.19999998   0.          79.99999997   0.           0.\n",
            "   51.19999998   0.           0.        ]\n",
            " [  0.          63.99999973   0.          63.99999998   0.\n",
            "    0.           0.         100.        ]\n",
            " [  0.           0.          80.           0.           0.\n",
            "    0.           0.           0.        ]\n",
            " [  0.           0.           0.           0.           0.\n",
            "   51.19999998   0.           0.        ]\n",
            " [  0.          63.99999998   0.           0.          40.95999998\n",
            "    0.          40.95999998   0.        ]\n",
            " [  0.           0.           0.           0.           0.\n",
            "   51.19999998   0.           0.        ]\n",
            " [  0.           0.          79.99999997   0.           0.\n",
            "    0.           0.          99.99999998]]\n"
          ],
          "name": "stdout"
        }
      ]
    },
    {
      "cell_type": "markdown",
      "metadata": {
        "id": "M28Q7u49phYE"
      },
      "source": [
        "Finally, we test our model and output the learning results"
      ]
    },
    {
      "cell_type": "code",
      "metadata": {
        "colab": {
          "base_uri": "https://localhost:8080/",
          "height": 299
        },
        "id": "ZTApaUsJplTM",
        "outputId": "4fe80cad-9890-4e26-f748-93034b1c461f"
      },
      "source": [
        "#Testing\r\n",
        "current_state=0\r\n",
        "steps = [current_state]\r\n",
        "\r\n",
        "while current_state != 7:\r\n",
        "    next_step_index = np.where(Q[current_state,] == np.max(Q[current_state,]))[1]\r\n",
        "\r\n",
        "    if next_step_index.shape[0] > 1:\r\n",
        "        next_step_index = int(np.random.choice(next_step_index, size=1))\r\n",
        "    else:\r\n",
        "        next_step_index = int(next_step_index)\r\n",
        "    steps.append(next_step_index)\r\n",
        "    current_state = next_step_index\r\n",
        "print(\"Most efficient path: \")\r\n",
        "print(steps)\r\n",
        "\r\n",
        "plt.plot(scores)\r\n",
        "plt.show()"
      ],
      "execution_count": null,
      "outputs": [
        {
          "output_type": "stream",
          "text": [
            "Most efficient path: \n",
            "[0, 1, 2, 7]\n"
          ],
          "name": "stdout"
        },
        {
          "output_type": "display_data",
          "data": {
            "image/png": "[encoded data removed]",
            "text/plain": [
              "<Figure size 432x288 with 1 Axes>"
            ]
          },
          "metadata": {
            "tags": [],
            "needs_background": "light"
          }
        }
      ]
    }
  ]
}