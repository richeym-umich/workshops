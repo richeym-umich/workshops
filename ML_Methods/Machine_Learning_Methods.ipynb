{
  "nbformat": 4,
  "nbformat_minor": 0,
  "metadata": {
    "colab": {
      "name": "Machine Learning Methods.ipynb",
      "provenance": [],
      "toc_visible": true,
      "authorship_tag": "ABX9TyMGpBdEILy+I7g4EcH3AAY9",
      "include_colab_link": true
    },
    "kernelspec": {
      "name": "python3",
      "display_name": "Python 3"
    }
  },
  "cells": [
    {
      "cell_type": "markdown",
      "metadata": {
        "id": "view-in-github",
        "colab_type": "text"
      },
      "source": [
        "<a href=\"https://colab.research.google.com/github/richeym-umich/workshops/blob/main/ML_Methods/Machine_Learning_Methods.ipynb\" target=\"_parent\"><img src=\"https://colab.research.google.com/assets/colab-badge.svg\" alt=\"Open In Colab\"/></a>"
      ]
    },
    {
      "cell_type": "markdown",
      "metadata": {
        "id": "RwpIFoZ2rtHD"
      },
      "source": [
        "### **Classification**"
      ]
    },
    {
      "cell_type": "markdown",
      "metadata": {
        "id": "vqsGqyq2rwl0"
      },
      "source": [
        "The following is an example of a classification application using the K nearest neighbors classifier in the scikit learn package"
      ]
    },
    {
      "cell_type": "code",
      "metadata": {
        "id": "Khgv7_PWsKGZ"
      },
      "source": [
        "from sklearn import preprocessing\r\n",
        "from sklearn.neighbors import KNeighborsClassifier"
      ],
      "execution_count": null,
      "outputs": []
    },
    {
      "cell_type": "code",
      "metadata": {
        "id": "51qb4TncsCEC"
      },
      "source": [
        "# Assigning features and label variables\r\n",
        "# First Feature\r\n",
        "weather=['Sunny','Sunny','Overcast','Rainy','Rainy','Rainy','Overcast','Sunny','Sunny',\r\n",
        "'Rainy','Sunny','Overcast','Overcast','Rainy']\r\n",
        "# Second Feature\r\n",
        "temp=['Hot','Hot','Hot','Mild','Cool','Cool','Cool','Mild','Cool','Mild','Mild','Mild','Hot','Mild']\r\n",
        "\r\n",
        "# Label or target varible\r\n",
        "play=['No','No','Yes','Yes','Yes','No','Yes','No','Yes','Yes','Yes','Yes','Yes','No']"
      ],
      "execution_count": null,
      "outputs": []
    },
    {
      "cell_type": "code",
      "metadata": {
        "id": "I1wE_8pusRz_",
        "colab": {
          "base_uri": "https://localhost:8080/"
        },
        "outputId": "70f77fa6-5281-42cd-9b67-cb37c9ffc8d8"
      },
      "source": [
        "#creating labelEncoder\r\n",
        "le = preprocessing.LabelEncoder()\r\n",
        "# Converting string labels into numbers.\r\n",
        "weather_encoded=le.fit_transform(weather)\r\n",
        "print(weather_encoded)"
      ],
      "execution_count": null,
      "outputs": [
        {
          "output_type": "stream",
          "text": [
            "[2 2 0 1 1 1 0 2 2 1 2 0 0 1]\n"
          ],
          "name": "stdout"
        }
      ]
    },
    {
      "cell_type": "code",
      "metadata": {
        "id": "MEHS4a_1soX7"
      },
      "source": [
        "# converting string labels into numbers\r\n",
        "temp_encoded=le.fit_transform(temp)\r\n",
        "label=le.fit_transform(play)"
      ],
      "execution_count": null,
      "outputs": []
    },
    {
      "cell_type": "code",
      "metadata": {
        "id": "IVlNLyf6spKz"
      },
      "source": [
        "#combining weather and temp into single listof tuples\r\n",
        "features=list(zip(weather_encoded,temp_encoded))"
      ],
      "execution_count": null,
      "outputs": []
    },
    {
      "cell_type": "code",
      "metadata": {
        "id": "TgveyHYostJT",
        "colab": {
          "base_uri": "https://localhost:8080/"
        },
        "outputId": "92d6af98-e51f-4b53-b151-727c116f0673"
      },
      "source": [
        "model = KNeighborsClassifier(n_neighbors=3)\r\n",
        "\r\n",
        "# Train the model using the training sets\r\n",
        "model.fit(features,label)\r\n",
        "\r\n",
        "#Predict Output\r\n",
        "predicted= model.predict([[0,2]]) # 0:Overcast, 2:Mild\r\n",
        "print(\"Should the team play in these conditions?: \" + str(le.inverse_transform(predicted)))"
      ],
      "execution_count": null,
      "outputs": [
        {
          "output_type": "stream",
          "text": [
            "Should the team play in these conditions?: ['Yes']\n"
          ],
          "name": "stdout"
        }
      ]
    },
    {
      "cell_type": "code",
      "metadata": {
        "id": "KRY3JYouvza1",
        "colab": {
          "base_uri": "https://localhost:8080/"
        },
        "outputId": "b9903bc8-822d-41f8-9394-22b52a27d401"
      },
      "source": [
        ""
      ],
      "execution_count": null,
      "outputs": [
        {
          "output_type": "execute_result",
          "data": {
            "text/plain": [
              "LabelEncoder()"
            ]
          },
          "metadata": {
            "tags": []
          },
          "execution_count": 9
        }
      ]
    },
    {
      "cell_type": "markdown",
      "metadata": {
        "id": "7GVGwdI4tDRe"
      },
      "source": [
        "### **Reinforcement Learning**\r\n",
        "\r\n"
      ]
    },
    {
      "cell_type": "markdown",
      "metadata": {
        "id": "EhToHcoRiKVt"
      },
      "source": [
        "The following is an example of a reinforcement learning application. The functions are predefined, and we will step through running each part of the code"
      ]
    },
    {
      "cell_type": "code",
      "metadata": {
        "id": "1WkuKrQ0s7jA"
      },
      "source": [
        "import numpy as np\r\n",
        "import networkx as nx\r\n",
        "import matplotlib.pyplot as plt"
      ],
      "execution_count": null,
      "outputs": []
    },
    {
      "cell_type": "markdown",
      "metadata": {
        "id": "yXkqSpTiitG5"
      },
      "source": [
        "First, we define a list of points by their connections"
      ]
    },
    {
      "cell_type": "code",
      "metadata": {
        "id": "-DpcGfPOigee"
      },
      "source": [
        "points_list = [(0,1), (1,5), (5,6), (5,4), (1,2), (2,3), (2,7)]"
      ],
      "execution_count": null,
      "outputs": []
    },
    {
      "cell_type": "markdown",
      "metadata": {
        "id": "LzvYZdX-iy4j"
      },
      "source": [
        "Next, we add the points to a graph and visualize the graph"
      ]
    },
    {
      "cell_type": "code",
      "metadata": {
        "id": "fW_DLpoTi52l",
        "colab": {
          "base_uri": "https://localhost:8080/",
          "height": 248
        },
        "outputId": "3bc233d5-b80b-46d2-bf87-a58656521506"
      },
      "source": [
        "goal = 7\r\n",
        "G = nx.Graph()\r\n",
        "G.add_edges_from(points_list)\r\n",
        "pos = nx.spring_layout(G)\r\n",
        "nx.draw_networkx_nodes(G, pos, node_size=[200,200,200,200,200,200,200,200])\r\n",
        "nx.draw_networkx_edges(G, pos)\r\n",
        "nx.draw_networkx_labels(G, pos)\r\n",
        "plt.show()"
      ],
      "execution_count": null,
      "outputs": [
        {
          "output_type": "display_data",
          "data": {
            "image/png": "[encoded data removed]",
            "text/plain": [
              "<Figure size 432x288 with 1 Axes>"
            ]
          },
          "metadata": {
            "tags": []
          }
        }
      ]
    },
    {
      "cell_type": "markdown",
      "metadata": {
        "id": "8JGaogN2lJBp"
      },
      "source": [
        "Next, we create our reward matrix"
      ]
    },
    {
      "cell_type": "code",
      "metadata": {
        "colab": {
          "base_uri": "https://localhost:8080/"
        },
        "id": "qIwyCWV9lP0U",
        "outputId": "11b90b2a-cb58-46fd-e303-e80401813056"
      },
      "source": [
        "MATRIX_SIZE = 8\r\n",
        "\r\n",
        "#create matrix x*y\r\n",
        "R = np.matrix(np.ones(shape=(MATRIX_SIZE, MATRIX_SIZE)))\r\n",
        "R *= -1\r\n",
        "\r\n",
        "#assign zeros to paths and 100 to goal-reaching point\r\n",
        "for point in points_list:\r\n",
        "    print(point)\r\n",
        "    if point[1] == goal:\r\n",
        "        R[point] = 100\r\n",
        "    else:\r\n",
        "        R[point]=0\r\n",
        "\r\n",
        "    if point[0] == goal:\r\n",
        "        R[point[::-1]] = 100\r\n",
        "    else:\r\n",
        "        R[point[::-1]] = 0\r\n",
        "\r\n",
        "R[goal,goal] = 100\r\n",
        "\r\n",
        "Q = np.matrix(np.zeros([MATRIX_SIZE, MATRIX_SIZE]))"
      ],
      "execution_count": null,
      "outputs": [
        {
          "output_type": "stream",
          "text": [
            "(0, 1)\n",
            "(1, 5)\n",
            "(5, 6)\n",
            "(5, 4)\n",
            "(1, 2)\n",
            "(2, 3)\n",
            "(2, 7)\n"
          ],
          "name": "stdout"
        }
      ]
    },
    {
      "cell_type": "markdown",
      "metadata": {
        "id": "jwaT32M4njby"
      },
      "source": [
        "Set our learning parameter"
      ]
    },
    {
      "cell_type": "code",
      "metadata": {
        "id": "SUh_6mMgnnyG"
      },
      "source": [
        "#learning parameter\r\n",
        "gamma = 0.8"
      ],
      "execution_count": null,
      "outputs": []
    },
    {
      "cell_type": "markdown",
      "metadata": {
        "id": "SzayoroTpFTX"
      },
      "source": [
        "Function to find our available actions from our current state"
      ]
    },
    {
      "cell_type": "code",
      "metadata": {
        "id": "nl-DJB4KpJhZ"
      },
      "source": [
        "def available_actions(state):\r\n",
        "    current_state_row = R[state,]\r\n",
        "    av_act = np.where(current_state_row >= 0)[1]\r\n",
        "    return av_act"
      ],
      "execution_count": null,
      "outputs": []
    },
    {
      "cell_type": "markdown",
      "metadata": {
        "id": "UxCChQ3ipMDM"
      },
      "source": [
        "Function to choose our next action from our current state and available actions"
      ]
    },
    {
      "cell_type": "code",
      "metadata": {
        "id": "oEGTi5qCpP4v"
      },
      "source": [
        "def sample_next_action(available_actions_range):\r\n",
        "    next_action = int(np.random.choice(available_act, 1))\r\n",
        "    return next_action"
      ],
      "execution_count": null,
      "outputs": []
    },
    {
      "cell_type": "markdown",
      "metadata": {
        "id": "vledcHWepSBr"
      },
      "source": [
        "Function to update the state of our actor with our chosen action"
      ]
    },
    {
      "cell_type": "code",
      "metadata": {
        "id": "xeB51HoRpXay"
      },
      "source": [
        "def update(current_state, action, gamma):\r\n",
        "    max_index = np.where(Q[action,] == np.max(Q[action,]))[1]\r\n",
        "\r\n",
        "    if max_index.shape[0] > 1:\r\n",
        "        max_index = int(np.random.choice(max_index, size=1))\r\n",
        "    else:\r\n",
        "        max_index = int(max_index)\r\n",
        "\r\n",
        "    max_value = Q[action, max_index]\r\n",
        "\r\n",
        "    Q[current_state,action] = R[current_state, action] + gamma*max_value\r\n",
        "\r\n",
        "    if(np.max(Q) > 0):\r\n",
        "        return(np.sum(Q/np.max(Q)*100))\r\n",
        "    else:\r\n",
        "        return(0)"
      ],
      "execution_count": null,
      "outputs": []
    },
    {
      "cell_type": "markdown",
      "metadata": {
        "id": "19YHVwtipbOv"
      },
      "source": [
        "Now that our code has been set up, we need to train our reinforcement learning model"
      ]
    },
    {
      "cell_type": "code",
      "metadata": {
        "colab": {
          "base_uri": "https://localhost:8080/"
        },
        "id": "1czo75LBpezw",
        "outputId": "3e06e866-fe25-40ea-fbb9-38e6f37e80f9"
      },
      "source": [
        "#Training\r\n",
        "scores = []\r\n",
        "for i in range(700):\r\n",
        "    current_state = np.random.randint(0, int(Q.shape[0]))\r\n",
        "    available_act = available_actions(current_state)\r\n",
        "    action = sample_next_action(available_act)\r\n",
        "    score = update(current_state,action,gamma)\r\n",
        "    scores.append(score)\r\n",
        "\r\n",
        "print(\"Trained Q matrix: \")\r\n",
        "print(Q/np.max(Q)*100)"
      ],
      "execution_count": null,
      "outputs": [
        {
          "output_type": "stream",
          "text": [
            "Trained Q matrix: \n",
            "[[  0.          63.99999998   0.           0.           0.\n",
            "    0.           0.           0.        ]\n",
            " [ 51.19999998   0.          79.99999997   0.           0.\n",
            "   51.19999998   0.           0.        ]\n",
            " [  0.          63.99999973   0.          63.99999998   0.\n",
            "    0.           0.         100.        ]\n",
            " [  0.           0.          80.           0.           0.\n",
            "    0.           0.           0.        ]\n",
            " [  0.           0.           0.           0.           0.\n",
            "   51.19999998   0.           0.        ]\n",
            " [  0.          63.99999998   0.           0.          40.95999998\n",
            "    0.          40.95999998   0.        ]\n",
            " [  0.           0.           0.           0.           0.\n",
            "   51.19999998   0.           0.        ]\n",
            " [  0.           0.          79.99999997   0.           0.\n",
            "    0.           0.          99.99999998]]\n"
          ],
          "name": "stdout"
        }
      ]
    },
    {
      "cell_type": "markdown",
      "metadata": {
        "id": "M28Q7u49phYE"
      },
      "source": [
        "Finally, we test our model and output the learning results"
      ]
    },
    {
      "cell_type": "code",
      "metadata": {
        "colab": {
          "base_uri": "https://localhost:8080/",
          "height": 299
        },
        "id": "ZTApaUsJplTM",
        "outputId": "4fe80cad-9890-4e26-f748-93034b1c461f"
      },
      "source": [
        "#Testing\r\n",
        "current_state=0\r\n",
        "steps = [current_state]\r\n",
        "\r\n",
        "while current_state != 7:\r\n",
        "    next_step_index = np.where(Q[current_state,] == np.max(Q[current_state,]))[1]\r\n",
        "\r\n",
        "    if next_step_index.shape[0] > 1:\r\n",
        "        next_step_index = int(np.random.choice(next_step_index, size=1))\r\n",
        "    else:\r\n",
        "        next_step_index = int(next_step_index)\r\n",
        "    steps.append(next_step_index)\r\n",
        "    current_state = next_step_index\r\n",
        "print(\"Most efficient path: \")\r\n",
        "print(steps)\r\n",
        "\r\n",
        "plt.plot(scores)\r\n",
        "plt.show()"
      ],
      "execution_count": null,
      "outputs": [
        {
          "output_type": "stream",
          "text": [
            "Most efficient path: \n",
            "[0, 1, 2, 7]\n"
          ],
          "name": "stdout"
        },
        {
          "output_type": "display_data",
          "data": {
            "image/png": "[encoded data removed]",
            "text/plain": [
              "<Figure size 432x288 with 1 Axes>"
            ]
          },
          "metadata": {
            "tags": [],
            "needs_background": "light"
          }
        }
      ]
    },
    {
      "cell_type": "code",
      "metadata": {
        "id": "hSoZkit87VUn",
        "colab": {
          "base_uri": "https://localhost:8080/",
          "height": 265
        },
        "outputId": "3c64966e-9c51-45c7-baed-d86e781c2fd5"
      },
      "source": [
        "from pandas import DataFrame\r\n",
        "import matplotlib.pyplot as plt\r\n",
        "from sklearn.cluster import KMeans\r\n",
        "import pandas as pd\r\n",
        "from sklearn import preprocessing\r\n",
        "  \r\n",
        "url = 'https://raw.githubusercontent.com/richeym-umich/workshops/main/ML_Methods/basketball_data.csv'\r\n",
        "df = pd.read_csv(url)\r\n",
        "df.head()\r\n",
        "\r\n",
        "features=list(zip(df['GP'],df['GS'], df['PTS'], df['FGM'], df['FTM'], df['FTA'], df['3FGM'], df['3FGA'], df['OREB'], df['DREB'], df['AST'], df['STL'], df['BLK'], df['TO'], df['PF']))\r\n",
        "\r\n",
        "df.head()\r\n",
        "#le = preprocessing.LabelEncoder()\r\n",
        "#gp_encoded=le.fit_transform(df['GP'])\r\n",
        "#gp_encoded\r\n",
        "  \r\n",
        "kmeans = KMeans(n_clusters=5).fit(features)\r\n",
        "#centroids = kmeans.cluster_centers_\r\n",
        "#print(centroids)\r\n",
        "\r\n",
        "plt.scatter(df['Player'], df['PTS'], c= kmeans.labels_.astype(float), s=50, alpha=0.5)\r\n",
        "#plt.scatter(centroids[:, 0], centroids[:, 1], c='red', s=50)\r\n",
        "plt.show()"
      ],
      "execution_count": null,
      "outputs": [
        {
          "output_type": "display_data",
          "data": {
            "image/png": "[encoded data removed]",
            "text/plain": [
              "<Figure size 432x288 with 1 Axes>"
            ]
          },
          "metadata": {
            "tags": [],
            "needs_background": "light"
          }
        }
      ]
    },
    {
      "cell_type": "code",
      "metadata": {
        "id": "u-kjujVo7Z-Z"
      },
      "source": [
        ""
      ],
      "execution_count": null,
      "outputs": []
    },
    {
      "cell_type": "markdown",
      "metadata": {
        "id": "H6R503I9uJWg"
      },
      "source": [
        "### Scraping Indeed"
      ]
    },
    {
      "cell_type": "code",
      "metadata": {
        "id": "jckK3AKyuMRc",
        "outputId": "4de0f78e-b624-4db7-b596-3462d85ea310",
        "colab": {
          "base_uri": "https://localhost:8080/",
          "height": 419
        }
      },
      "source": [
        "import pandas as pd\r\n",
        "df_detroit = pd.read_csv('data_scientist_detroit.csv')\r\n",
        "df_houston = pd.read_csv('data_scientist_houston.csv')\r\n",
        "df_newyorkcity = pd.read_csv('data_scientist_newyorkcity.csv')\r\n",
        "df_sanjose = pd.read_csv('data_scientist_sanjose.csv')\r\n",
        "df_seattle = pd.read_csv('data_scientist_seattle.csv')\r\n",
        "\r\n",
        "df = pd.concat([df_detroit, df_houston, df_newyorkcity, df_sanjose, df_seattle], ignore_index=True).drop_duplicates().reset_index(drop=True)\r\n",
        "df"
      ],
      "execution_count": 7,
      "outputs": [
        {
          "output_type": "execute_result",
          "data": {
            "text/html": [
              "<div>\n",
              "<style scoped>\n",
              "    .dataframe tbody tr th:only-of-type {\n",
              "        vertical-align: middle;\n",
              "    }\n",
              "\n",
              "    .dataframe tbody tr th {\n",
              "        vertical-align: top;\n",
              "    }\n",
              "\n",
              "    .dataframe thead th {\n",
              "        text-align: right;\n",
              "    }\n",
              "</style>\n",
              "<table border=\"1\" class=\"dataframe\">\n",
              "  <thead>\n",
              "    <tr style=\"text-align: right;\">\n",
              "      <th></th>\n",
              "      <th>Title</th>\n",
              "      <th>Location</th>\n",
              "      <th>Company</th>\n",
              "      <th>Salary</th>\n",
              "      <th>Description</th>\n",
              "    </tr>\n",
              "  </thead>\n",
              "  <tbody>\n",
              "    <tr>\n",
              "      <th>0</th>\n",
              "      <td>Technical Sales Engineer (AI &amp; Machine Learning)</td>\n",
              "      <td>United States</td>\n",
              "      <td>Lucd</td>\n",
              "      <td>From $128,189 a year</td>\n",
              "      <td>Quickly learning, understanding, and articulat...</td>\n",
              "    </tr>\n",
              "    <tr>\n",
              "      <th>1</th>\n",
              "      <td>Machine Learning Engineer</td>\n",
              "      <td>Detroit, MI 48226 (Downtown area)</td>\n",
              "      <td>Rocket Auto LLC</td>\n",
              "      <td>None</td>\n",
              "      <td>Build services to interact with machine learni...</td>\n",
              "    </tr>\n",
              "    <tr>\n",
              "      <th>2</th>\n",
              "      <td>Machine learning engineer</td>\n",
              "      <td>Detroit, MI</td>\n",
              "      <td>SafeRide</td>\n",
              "      <td>None</td>\n",
              "      <td>Applied experience with machine learning and d...</td>\n",
              "    </tr>\n",
              "    <tr>\n",
              "      <th>3</th>\n",
              "      <td>Software Developer Java/Microservices/BigData/...</td>\n",
              "      <td>Detroit, MI</td>\n",
              "      <td>General Motors</td>\n",
              "      <td>None</td>\n",
              "      <td>Create software for vehicle level functions an...</td>\n",
              "    </tr>\n",
              "    <tr>\n",
              "      <th>4</th>\n",
              "      <td>Data Scientist, Machine Learning Engineer</td>\n",
              "      <td>Livonia, MI 48152</td>\n",
              "      <td>AAA Life Insurance Company</td>\n",
              "      <td>None</td>\n",
              "      <td>Experience with AWS automated machine learning...</td>\n",
              "    </tr>\n",
              "    <tr>\n",
              "      <th>...</th>\n",
              "      <td>...</td>\n",
              "      <td>...</td>\n",
              "      <td>...</td>\n",
              "      <td>...</td>\n",
              "      <td>...</td>\n",
              "    </tr>\n",
              "    <tr>\n",
              "      <th>65</th>\n",
              "      <td>Machine Learning Engineer - Global AI</td>\n",
              "      <td>Seattle, WA 98104 (Downtown area)</td>\n",
              "      <td>Slalom Consulting</td>\n",
              "      <td>None</td>\n",
              "      <td>Relevant experience in machine learning and/or...</td>\n",
              "    </tr>\n",
              "    <tr>\n",
              "      <th>66</th>\n",
              "      <td>Machine Learning Engineer - (PyTorch, TensorFlow)</td>\n",
              "      <td>Seattle, WA 98101 (Downtown area)</td>\n",
              "      <td>Kelly</td>\n",
              "      <td>None</td>\n",
              "      <td>Ability to debug networks in deep learning fra...</td>\n",
              "    </tr>\n",
              "    <tr>\n",
              "      <th>67</th>\n",
              "      <td>Machine Learning Engineer, Advertiser Growth M...</td>\n",
              "      <td>Seattle, WA 98101 (Denny Triangle area)</td>\n",
              "      <td>Pinterest</td>\n",
              "      <td>None</td>\n",
              "      <td>Strong industry experience in machine learning...</td>\n",
              "    </tr>\n",
              "    <tr>\n",
              "      <th>68</th>\n",
              "      <td>Machine Learning Engineer, Growth ML Team - Se...</td>\n",
              "      <td>Seattle, WA</td>\n",
              "      <td>Snapchat</td>\n",
              "      <td>None</td>\n",
              "      <td>Develop innovative ML/AI solutions for challen...</td>\n",
              "    </tr>\n",
              "    <tr>\n",
              "      <th>69</th>\n",
              "      <td>Machine Learning Scientist</td>\n",
              "      <td>Seattle, WA</td>\n",
              "      <td>Amazon.com Services LLC</td>\n",
              "      <td>None</td>\n",
              "      <td>Experience with machine learning/deep learning...</td>\n",
              "    </tr>\n",
              "  </tbody>\n",
              "</table>\n",
              "<p>70 rows × 5 columns</p>\n",
              "</div>"
            ],
            "text/plain": [
              "                                                Title  ...                                        Description\n",
              "0    Technical Sales Engineer (AI & Machine Learning)  ...  Quickly learning, understanding, and articulat...\n",
              "1                           Machine Learning Engineer  ...  Build services to interact with machine learni...\n",
              "2                           Machine learning engineer  ...  Applied experience with machine learning and d...\n",
              "3   Software Developer Java/Microservices/BigData/...  ...  Create software for vehicle level functions an...\n",
              "4           Data Scientist, Machine Learning Engineer  ...  Experience with AWS automated machine learning...\n",
              "..                                                ...  ...                                                ...\n",
              "65              Machine Learning Engineer - Global AI  ...  Relevant experience in machine learning and/or...\n",
              "66  Machine Learning Engineer - (PyTorch, TensorFlow)  ...  Ability to debug networks in deep learning fra...\n",
              "67  Machine Learning Engineer, Advertiser Growth M...  ...  Strong industry experience in machine learning...\n",
              "68  Machine Learning Engineer, Growth ML Team - Se...  ...  Develop innovative ML/AI solutions for challen...\n",
              "69                         Machine Learning Scientist  ...  Experience with machine learning/deep learning...\n",
              "\n",
              "[70 rows x 5 columns]"
            ]
          },
          "metadata": {
            "tags": []
          },
          "execution_count": 7
        }
      ]
    },
    {
      "cell_type": "code",
      "metadata": {
        "id": "QINxfKBRwdXv"
      },
      "source": [
        "tool_keywords = ['python', 'pytorch', 'tensorflow', 'keras', 'pyspark', 'c', 'c++', 'hadoop', 'hpc', 'pandas', 'sql', 'scikitlearn', 'mplotlib', 'matplotlib', 'numpy', 'aws', 'cloud']\r\n",
        "tool_keyphrases = ['amazon web services', 'google cloud', 'sql server']\r\n",
        "skill_keywords = ['programming', 'stats', 'statistics', 'cleaning', 'gui', 'reinforcement', 'clustering', 'classification', 'classify', 'nlp', 'ml', 'nn', 'cnn', 'regression', 'network', 'svm']\r\n",
        "skill_keyphrases = ['random forest', 'natural language processing', 'machine learning', 'nearest neighbors', 'data mining', 'support vector machine', 'deep learning', 'computer vision', 'dimensionality reduction']\r\n",
        "degree_dict = {'bs': 1, 'bachelor': 1, 'undergraduate': 1, \r\n",
        "               'master': 2, 'graduate': 2, 'mba': 2.5, \r\n",
        "               'phd': 3, 'ph.d': 3, 'ba': 1, 'ma': 2,\r\n",
        "               'postdoctoral': 4, 'postdoc': 4, 'doctorate': 3}\r\n",
        "\r\n",
        "\r\n",
        "degree_dict2 = {'advanced degree': 2, 'ms or': 2, 'ms degree': 2, '4 year degree': 1, 'bs/': 1, 'ba/': 1,\r\n",
        "                '4-year degree': 1, 'b.s.': 1, 'm.s.': 2, 'm.s': 2, 'b.s': 1, 'phd/': 3, 'ph.d.': 3, 'ms/': 2,\r\n",
        "                'm.s/': 2, 'm.s./': 2, 'msc/': 2, 'master/': 2, 'master\\'s/': 2, 'bachelor\\s/': 1}\r\n",
        "degree_keywords2 = set(degree_dict2.keys())"
      ],
      "execution_count": 8,
      "outputs": []
    },
    {
      "cell_type": "code",
      "metadata": {
        "id": "0h0hYhl_3EEk"
      },
      "source": [
        ""
      ],
      "execution_count": null,
      "outputs": []
    }
  ]
}