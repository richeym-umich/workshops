{
  "nbformat": 4,
  "nbformat_minor": 0,
  "metadata": {
    "colab": {
      "name": "Machine_Learning_Tools_and_Training.ipynb",
      "provenance": [],
      "authorship_tag": "ABX9TyMVc1VfgV6IS2rxVurq80a0",
      "include_colab_link": true
    },
    "kernelspec": {
      "name": "python3",
      "display_name": "Python 3"
    }
  },
  "cells": [
    {
      "cell_type": "markdown",
      "metadata": {
        "id": "view-in-github",
        "colab_type": "text"
      },
      "source": [
        "<a href=\"https://colab.research.google.com/github/richeym-umich/workshops/blob/main/Machine_Learning_Tools_and_Training.ipynb\" target=\"_parent\"><img src=\"https://colab.research.google.com/assets/colab-badge.svg\" alt=\"Open In Colab\"/></a>"
      ]
    },
    {
      "cell_type": "markdown",
      "metadata": {
        "id": "IYlLWC_VE-XR"
      },
      "source": [
        "### Scikit-Learn Example\r\n",
        "In the following example, we'll go through importing some python libraries and working with a provided dataset to demonstrate a simple computer vision problem"
      ]
    },
    {
      "cell_type": "markdown",
      "metadata": {
        "id": "-eSKJw9XFNDP"
      },
      "source": [
        "To start, we'll import some essential libraries for visualizing our results and working with provided datasets. Note that we also import an svm classifier."
      ]
    },
    {
      "cell_type": "code",
      "metadata": {
        "id": "IQejLUfeYasd"
      },
      "source": [
        "import matplotlib.pyplot as plt\r\n",
        "from sklearn import datasets, svm, metrics\r\n",
        "from sklearn.model_selection import train_test_split"
      ],
      "execution_count": 1,
      "outputs": []
    },
    {
      "cell_type": "code",
      "metadata": {
        "id": "5lhuayXsYzWM"
      },
      "source": [
        "digits = datasets.load_digits()"
      ],
      "execution_count": 2,
      "outputs": []
    },
    {
      "cell_type": "code",
      "metadata": {
        "colab": {
          "base_uri": "https://localhost:8080/",
          "height": 120
        },
        "id": "Y9Dn3NHbY6Bh",
        "outputId": "a17d2f22-523e-4e21-904b-e438775984a7"
      },
      "source": [
        "_, axes = plt.subplots(1,4)\r\n",
        "images_and_labels = list(zip(digits.images, digits.target))\r\n",
        "for ax, (image,label) in zip(axes[:], images_and_labels[:4]):\r\n",
        "  ax.set_axis_off()\r\n",
        "  ax.imshow(image, cmap=plt.cm.gray_r, interpolation='nearest')\r\n",
        "  ax.set_title('Training: %i' % label)"
      ],
      "execution_count": 23,
      "outputs": [
        {
          "output_type": "display_data",
          "data": {
            "image/png": "[encoded data removed]",
            "text/plain": [
              "<Figure size 432x288 with 4 Axes>"
            ]
          },
          "metadata": {
            "tags": [],
            "needs_background": "light"
          }
        }
      ]
    },
    {
      "cell_type": "code",
      "metadata": {
        "id": "eEsuuYoa-fll"
      },
      "source": [
        "n_samples = len(digits.images)\r\n",
        "data = digits.images.reshape((n_samples, -1))"
      ],
      "execution_count": 12,
      "outputs": []
    },
    {
      "cell_type": "code",
      "metadata": {
        "id": "WQTGcSzr-lrr"
      },
      "source": [
        "classifier = svm.SVC(gamma=.001)"
      ],
      "execution_count": 13,
      "outputs": []
    },
    {
      "cell_type": "code",
      "metadata": {
        "colab": {
          "base_uri": "https://localhost:8080/"
        },
        "id": "tffED6Xe-rNH",
        "outputId": "49984434-9abb-4289-b03f-967497c87560"
      },
      "source": [
        "x_train, x_test, y_train, y_test = train_test_split(data, digits.target, test_size=0.5, shuffle=False)\r\n",
        "classifier.fit(x_train, y_train)"
      ],
      "execution_count": 14,
      "outputs": [
        {
          "output_type": "execute_result",
          "data": {
            "text/plain": [
              "SVC(C=1.0, break_ties=False, cache_size=200, class_weight=None, coef0=0.0,\n",
              "    decision_function_shape='ovr', degree=3, gamma=0.001, kernel='rbf',\n",
              "    max_iter=-1, probability=False, random_state=None, shrinking=True,\n",
              "    tol=0.001, verbose=False)"
            ]
          },
          "metadata": {
            "tags": []
          },
          "execution_count": 14
        }
      ]
    },
    {
      "cell_type": "code",
      "metadata": {
        "id": "JO_iDDjJ-10-"
      },
      "source": [
        "predicted = classifier.predict(x_test)"
      ],
      "execution_count": 15,
      "outputs": []
    },
    {
      "cell_type": "code",
      "metadata": {
        "colab": {
          "base_uri": "https://localhost:8080/",
          "height": 120
        },
        "id": "Hdhm6Jag--UX",
        "outputId": "9968deaf-7d2d-44b0-9bcd-f137885dfe39"
      },
      "source": [
        "_, axes = plt.subplots(1,4)\r\n",
        "images_and_predictions = list(zip(digits.images[n_samples // 2:], predicted))\r\n",
        "for ax, (image, prediction) in zip(axes[:], images_and_predictions[:4]):\r\n",
        "    ax.set_axis_off()\r\n",
        "    ax.imshow(image, cmap=plt.cm.gray_r, interpolation='nearest')\r\n",
        "    ax.set_title('Prediction: %i' % prediction)"
      ],
      "execution_count": 22,
      "outputs": [
        {
          "output_type": "display_data",
          "data": {
            "image/png": "[encoded data removed]",
            "text/plain": [
              "<Figure size 432x288 with 4 Axes>"
            ]
          },
          "metadata": {
            "tags": [],
            "needs_background": "light"
          }
        }
      ]
    },
    {
      "cell_type": "code",
      "metadata": {
        "colab": {
          "base_uri": "https://localhost:8080/",
          "height": 869
        },
        "id": "W98RoNq__qLC",
        "outputId": "7c6db2b4-ea9e-40c7-af1d-e1385c197b7f"
      },
      "source": [
        "print('Classification report for classifier %s:\\n%s\\n' % (classifier, metrics.classification_report(y_test, predicted)))\r\n",
        "disp = metrics.plot_confusion_matrix(classifier, x_test, y_test)\r\n",
        "disp.figure_.suptitle('Confusion Matrix')\r\n",
        "print('Confusion matrix:\\n%s' % disp.confusion_matrix)\r\n",
        "plt.show()"
      ],
      "execution_count": 19,
      "outputs": [
        {
          "output_type": "stream",
          "text": [
            "Classification report for classifier SVC(C=1.0, break_ties=False, cache_size=200, class_weight=None, coef0=0.0,\n",
            "    decision_function_shape='ovr', degree=3, gamma=0.001, kernel='rbf',\n",
            "    max_iter=-1, probability=False, random_state=None, shrinking=True,\n",
            "    tol=0.001, verbose=False):\n",
            "              precision    recall  f1-score   support\n",
            "\n",
            "           0       1.00      0.99      0.99        88\n",
            "           1       0.99      0.97      0.98        91\n",
            "           2       0.99      0.99      0.99        86\n",
            "           3       0.98      0.87      0.92        91\n",
            "           4       0.99      0.96      0.97        92\n",
            "           5       0.95      0.97      0.96        91\n",
            "           6       0.99      0.99      0.99        91\n",
            "           7       0.96      0.99      0.97        89\n",
            "           8       0.94      1.00      0.97        88\n",
            "           9       0.93      0.98      0.95        92\n",
            "\n",
            "    accuracy                           0.97       899\n",
            "   macro avg       0.97      0.97      0.97       899\n",
            "weighted avg       0.97      0.97      0.97       899\n",
            "\n",
            "\n",
            "Confusion matrix:\n",
            "[[87  0  0  0  1  0  0  0  0  0]\n",
            " [ 0 88  1  0  0  0  0  0  1  1]\n",
            " [ 0  0 85  1  0  0  0  0  0  0]\n",
            " [ 0  0  0 79  0  3  0  4  5  0]\n",
            " [ 0  0  0  0 88  0  0  0  0  4]\n",
            " [ 0  0  0  0  0 88  1  0  0  2]\n",
            " [ 0  1  0  0  0  0 90  0  0  0]\n",
            " [ 0  0  0  0  0  1  0 88  0  0]\n",
            " [ 0  0  0  0  0  0  0  0 88  0]\n",
            " [ 0  0  0  1  0  1  0  0  0 90]]\n"
          ],
          "name": "stdout"
        },
        {
          "output_type": "display_data",
          "data": {
            "image/png": "[encoded data removed]",
            "text/plain": [
              "<Figure size 432x288 with 2 Axes>"
            ]
          },
          "metadata": {
            "tags": [],
            "needs_background": "light"
          }
        }
      ]
    }
  ]
}