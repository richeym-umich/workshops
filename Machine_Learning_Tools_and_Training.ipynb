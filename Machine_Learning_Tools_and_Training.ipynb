{
  "nbformat": 4,
  "nbformat_minor": 0,
  "metadata": {
    "colab": {
      "name": "Machine_Learning_Tools_and_Training.ipynb",
      "provenance": [],
      "authorship_tag": "ABX9TyOxxl6gSh/fyCXERUzn24J5",
      "include_colab_link": true
    },
    "kernelspec": {
      "name": "python3",
      "display_name": "Python 3"
    }
  },
  "cells": [
    {
      "cell_type": "markdown",
      "metadata": {
        "id": "view-in-github",
        "colab_type": "text"
      },
      "source": [
        "<a href=\"https://colab.research.google.com/github/richeym-umich/workshops/blob/main/Machine_Learning_Tools_and_Training.ipynb\" target=\"_parent\"><img src=\"https://colab.research.google.com/assets/colab-badge.svg\" alt=\"Open In Colab\"/></a>"
      ]
    },
    {
      "cell_type": "markdown",
      "metadata": {
        "id": "IYlLWC_VE-XR"
      },
      "source": [
        "### Scikit-Learn Example\r\n",
        "In the following example, we'll go through importing some python libraries and working with a provided dataset to demonstrate a simple computer vision problem"
      ]
    },
    {
      "cell_type": "markdown",
      "metadata": {
        "id": "-eSKJw9XFNDP"
      },
      "source": [
        "To start, we'll import some essential libraries for visualizing our results and working with provided datasets. Note that we also import an svm classifier."
      ]
    },
    {
      "cell_type": "code",
      "metadata": {
        "id": "IQejLUfeYasd"
      },
      "source": [
        "import matplotlib.pyplot as plt\r\n",
        "from sklearn import datasets, svm, metrics\r\n",
        "from sklearn.model_selection import train_test_split"
      ],
      "execution_count": 1,
      "outputs": []
    },
    {
      "cell_type": "markdown",
      "metadata": {
        "id": "Wd_M2QMEFszw"
      },
      "source": [
        "Next, we import the digits dataset. This dataset contains images of handwritten digits. In this example, we'll be teaching a machine to recognize the handwritten digits."
      ]
    },
    {
      "cell_type": "code",
      "metadata": {
        "id": "5lhuayXsYzWM"
      },
      "source": [
        "digits = datasets.load_digits()"
      ],
      "execution_count": 2,
      "outputs": []
    },
    {
      "cell_type": "markdown",
      "metadata": {
        "id": "oFn5Ie7OF3NS"
      },
      "source": [
        "Using matplotlib, we can visualize some of our training data that we just imported. These images have labels that are shown above the image"
      ]
    },
    {
      "cell_type": "code",
      "metadata": {
        "colab": {
          "base_uri": "https://localhost:8080/",
          "height": 120
        },
        "id": "Y9Dn3NHbY6Bh",
        "outputId": "a17d2f22-523e-4e21-904b-e438775984a7"
      },
      "source": [
        "_, axes = plt.subplots(1,4)\r\n",
        "images_and_labels = list(zip(digits.images, digits.target))\r\n",
        "for ax, (image,label) in zip(axes[:], images_and_labels[:4]):\r\n",
        "  ax.set_axis_off()\r\n",
        "  ax.imshow(image, cmap=plt.cm.gray_r, interpolation='nearest')\r\n",
        "  ax.set_title('Training: %i' % label)"
      ],
      "execution_count": 23,
      "outputs": [
        {
          "output_type": "display_data",
          "data": {
            "image/png": "[encoded data removed]",
            "text/plain": [
              "<Figure size 432x288 with 4 Axes>"
            ]
          },
          "metadata": {
            "tags": [],
            "needs_background": "light"
          }
        }
      ]
    },
    {
      "cell_type": "markdown",
      "metadata": {
        "id": "1MeXYd2iGBtH"
      },
      "source": [
        "Next, we prepare our data for training by putting it into the correct format for an svm classifier. "
      ]
    },
    {
      "cell_type": "code",
      "metadata": {
        "id": "eEsuuYoa-fll"
      },
      "source": [
        "n_samples = len(digits.images)\r\n",
        "data = digits.images.reshape((n_samples, -1))"
      ],
      "execution_count": 12,
      "outputs": []
    },
    {
      "cell_type": "markdown",
      "metadata": {
        "id": "4UYSDEE1LEcE"
      },
      "source": [
        "We create an SVC classifier with a gamma value of .001. Gamma dictates how to scale each feature that is being considered."
      ]
    },
    {
      "cell_type": "code",
      "metadata": {
        "id": "WQTGcSzr-lrr"
      },
      "source": [
        "classifier = svm.SVC(gamma=.001)"
      ],
      "execution_count": 13,
      "outputs": []
    },
    {
      "cell_type": "markdown",
      "metadata": {
        "id": "RJpCndvkMgGD"
      },
      "source": [
        "After creating the classifier, we split our data in training data and testing data. This is done by a predefined function, where we dictate how large of a testing size to have. Then, we fit our classifier to our data. "
      ]
    },
    {
      "cell_type": "code",
      "metadata": {
        "colab": {
          "base_uri": "https://localhost:8080/"
        },
        "id": "tffED6Xe-rNH",
        "outputId": "49984434-9abb-4289-b03f-967497c87560"
      },
      "source": [
        "x_train, x_test, y_train, y_test = train_test_split(data, digits.target, test_size=0.5, shuffle=False)\r\n",
        "classifier.fit(x_train, y_train)"
      ],
      "execution_count": 14,
      "outputs": [
        {
          "output_type": "execute_result",
          "data": {
            "text/plain": [
              "SVC(C=1.0, break_ties=False, cache_size=200, class_weight=None, coef0=0.0,\n",
              "    decision_function_shape='ovr', degree=3, gamma=0.001, kernel='rbf',\n",
              "    max_iter=-1, probability=False, random_state=None, shrinking=True,\n",
              "    tol=0.001, verbose=False)"
            ]
          },
          "metadata": {
            "tags": []
          },
          "execution_count": 14
        }
      ]
    },
    {
      "cell_type": "markdown",
      "metadata": {
        "id": "ZB8p3x_AMqJ2"
      },
      "source": [
        "Once the classifier is fit to the training data, we can test it with test data by calling the predict function. "
      ]
    },
    {
      "cell_type": "code",
      "metadata": {
        "id": "JO_iDDjJ-10-"
      },
      "source": [
        "predicted = classifier.predict(x_test)"
      ],
      "execution_count": 15,
      "outputs": []
    },
    {
      "cell_type": "markdown",
      "metadata": {
        "id": "pMXdaeMZM5sU"
      },
      "source": [
        "Finally, we visualize some predictions of the test data. "
      ]
    },
    {
      "cell_type": "code",
      "metadata": {
        "colab": {
          "base_uri": "https://localhost:8080/",
          "height": 120
        },
        "id": "Hdhm6Jag--UX",
        "outputId": "9968deaf-7d2d-44b0-9bcd-f137885dfe39"
      },
      "source": [
        "_, axes = plt.subplots(1,4)\r\n",
        "images_and_predictions = list(zip(digits.images[n_samples // 2:], predicted))\r\n",
        "for ax, (image, prediction) in zip(axes[:], images_and_predictions[:4]):\r\n",
        "    ax.set_axis_off()\r\n",
        "    ax.imshow(image, cmap=plt.cm.gray_r, interpolation='nearest')\r\n",
        "    ax.set_title('Prediction: %i' % prediction)"
      ],
      "execution_count": 22,
      "outputs": [
        {
          "output_type": "display_data",
          "data": {
            "image/png": "[encoded data removed]",
            "text/plain": [
              "<Figure size 432x288 with 4 Axes>"
            ]
          },
          "metadata": {
            "tags": [],
            "needs_background": "light"
          }
        }
      ]
    }
  ]
}