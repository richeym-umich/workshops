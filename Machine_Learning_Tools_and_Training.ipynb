{
  "nbformat": 4,
  "nbformat_minor": 0,
  "metadata": {
    "colab": {
      "name": "Machine_Learning_Tools_and_Training.ipynb",
      "provenance": [],
      "authorship_tag": "ABX9TyPN8sIZzSf1+8CFpjumQpIq",
      "include_colab_link": true
    },
    "kernelspec": {
      "name": "python3",
      "display_name": "Python 3"
    }
  },
  "cells": [
    {
      "cell_type": "markdown",
      "metadata": {
        "id": "view-in-github",
        "colab_type": "text"
      },
      "source": [
        "<a href=\"https://colab.research.google.com/github/richeym-umich/workshops/blob/main/Machine_Learning_Tools_and_Training.ipynb\" target=\"_parent\"><img src=\"https://colab.research.google.com/assets/colab-badge.svg\" alt=\"Open In Colab\"/></a>"
      ]
    },
    {
      "cell_type": "markdown",
      "metadata": {
        "id": "P6VgLmIQA7tX"
      },
      "source": [
        "### Pandas Example\r\n",
        "In the following example, we'll go through some data manipulation with Pandas"
      ]
    },
    {
      "cell_type": "markdown",
      "metadata": {
        "id": "jUxh-PIERlOE"
      },
      "source": [
        "First, we'll import the pandas module"
      ]
    },
    {
      "cell_type": "code",
      "metadata": {
        "id": "gfnwy5FQBIab"
      },
      "source": [
        "import pandas as pd"
      ],
      "execution_count": 1,
      "outputs": []
    },
    {
      "cell_type": "markdown",
      "metadata": {
        "id": "SGC7DQhzRnLy"
      },
      "source": [
        "Next, we'll make a simple data frame. A data frame is made up of columns with titles. In this case, we have two columns: Country and Rank"
      ]
    },
    {
      "cell_type": "code",
      "metadata": {
        "id": "2zLJhVVjBNN-",
        "outputId": "7c50f708-cae6-4ef4-c9c1-a83fa127f9e0",
        "colab": {
          "base_uri": "https://localhost:8080/",
          "height": 204
        }
      },
      "source": [
        "data = pd.DataFrame({'Country': ['Russia', 'Colombia', 'Chile', 'Ecuador', 'Nigeria'], 'Rank':[121, 40, 100, 130, 11]})\r\n",
        "data"
      ],
      "execution_count": 2,
      "outputs": [
        {
          "output_type": "execute_result",
          "data": {
            "text/html": [
              "<div>\n",
              "<style scoped>\n",
              "    .dataframe tbody tr th:only-of-type {\n",
              "        vertical-align: middle;\n",
              "    }\n",
              "\n",
              "    .dataframe tbody tr th {\n",
              "        vertical-align: top;\n",
              "    }\n",
              "\n",
              "    .dataframe thead th {\n",
              "        text-align: right;\n",
              "    }\n",
              "</style>\n",
              "<table border=\"1\" class=\"dataframe\">\n",
              "  <thead>\n",
              "    <tr style=\"text-align: right;\">\n",
              "      <th></th>\n",
              "      <th>Country</th>\n",
              "      <th>Rank</th>\n",
              "    </tr>\n",
              "  </thead>\n",
              "  <tbody>\n",
              "    <tr>\n",
              "      <th>0</th>\n",
              "      <td>Russia</td>\n",
              "      <td>121</td>\n",
              "    </tr>\n",
              "    <tr>\n",
              "      <th>1</th>\n",
              "      <td>Colombia</td>\n",
              "      <td>40</td>\n",
              "    </tr>\n",
              "    <tr>\n",
              "      <th>2</th>\n",
              "      <td>Chile</td>\n",
              "      <td>100</td>\n",
              "    </tr>\n",
              "    <tr>\n",
              "      <th>3</th>\n",
              "      <td>Ecuador</td>\n",
              "      <td>130</td>\n",
              "    </tr>\n",
              "    <tr>\n",
              "      <th>4</th>\n",
              "      <td>Nigeria</td>\n",
              "      <td>11</td>\n",
              "    </tr>\n",
              "  </tbody>\n",
              "</table>\n",
              "</div>"
            ],
            "text/plain": [
              "    Country  Rank\n",
              "0    Russia   121\n",
              "1  Colombia    40\n",
              "2     Chile   100\n",
              "3   Ecuador   130\n",
              "4   Nigeria    11"
            ]
          },
          "metadata": {
            "tags": []
          },
          "execution_count": 2
        }
      ]
    },
    {
      "cell_type": "markdown",
      "metadata": {
        "id": "NgzV5FcBRs5R"
      },
      "source": [
        "We can sort the values by a specific column. This demonstrates one of many simple functions that can be performed with a dataframe"
      ]
    },
    {
      "cell_type": "code",
      "metadata": {
        "id": "8aq2sVWNBa2u",
        "outputId": "c9cd4ce8-92ac-4853-c697-a11ff2b7f974",
        "colab": {
          "base_uri": "https://localhost:8080/",
          "height": 204
        }
      },
      "source": [
        "data.sort_values(by=['Rank'], ascending=True, inplace=False)"
      ],
      "execution_count": 3,
      "outputs": [
        {
          "output_type": "execute_result",
          "data": {
            "text/html": [
              "<div>\n",
              "<style scoped>\n",
              "    .dataframe tbody tr th:only-of-type {\n",
              "        vertical-align: middle;\n",
              "    }\n",
              "\n",
              "    .dataframe tbody tr th {\n",
              "        vertical-align: top;\n",
              "    }\n",
              "\n",
              "    .dataframe thead th {\n",
              "        text-align: right;\n",
              "    }\n",
              "</style>\n",
              "<table border=\"1\" class=\"dataframe\">\n",
              "  <thead>\n",
              "    <tr style=\"text-align: right;\">\n",
              "      <th></th>\n",
              "      <th>Country</th>\n",
              "      <th>Rank</th>\n",
              "    </tr>\n",
              "  </thead>\n",
              "  <tbody>\n",
              "    <tr>\n",
              "      <th>4</th>\n",
              "      <td>Nigeria</td>\n",
              "      <td>11</td>\n",
              "    </tr>\n",
              "    <tr>\n",
              "      <th>1</th>\n",
              "      <td>Colombia</td>\n",
              "      <td>40</td>\n",
              "    </tr>\n",
              "    <tr>\n",
              "      <th>2</th>\n",
              "      <td>Chile</td>\n",
              "      <td>100</td>\n",
              "    </tr>\n",
              "    <tr>\n",
              "      <th>0</th>\n",
              "      <td>Russia</td>\n",
              "      <td>121</td>\n",
              "    </tr>\n",
              "    <tr>\n",
              "      <th>3</th>\n",
              "      <td>Ecuador</td>\n",
              "      <td>130</td>\n",
              "    </tr>\n",
              "  </tbody>\n",
              "</table>\n",
              "</div>"
            ],
            "text/plain": [
              "    Country  Rank\n",
              "4   Nigeria    11\n",
              "1  Colombia    40\n",
              "2     Chile   100\n",
              "0    Russia   121\n",
              "3   Ecuador   130"
            ]
          },
          "metadata": {
            "tags": []
          },
          "execution_count": 3
        }
      ]
    },
    {
      "cell_type": "markdown",
      "metadata": {
        "id": "s1rwjXrMRzTx"
      },
      "source": [
        "Next, let's make a new data frame that shows the type of meat and number of ounces a deli counter sold in an hour. "
      ]
    },
    {
      "cell_type": "code",
      "metadata": {
        "id": "Ep7lXgkkBp1g",
        "outputId": "194f5f19-3760-4a10-e81d-1b9f1f98ab3d",
        "colab": {
          "base_uri": "https://localhost:8080/",
          "height": 297
        }
      },
      "source": [
        "data = pd.DataFrame({'food': ['bacon', 'pulled pork', 'bacon', 'pastrami', 'corned beef', 'Bacon', 'pastrami', 'honey ham'], 'ounces':[4,3,12,6,7.5, 8, 3, 5]})\r\n",
        "data"
      ],
      "execution_count": 45,
      "outputs": [
        {
          "output_type": "execute_result",
          "data": {
            "text/html": [
              "<div>\n",
              "<style scoped>\n",
              "    .dataframe tbody tr th:only-of-type {\n",
              "        vertical-align: middle;\n",
              "    }\n",
              "\n",
              "    .dataframe tbody tr th {\n",
              "        vertical-align: top;\n",
              "    }\n",
              "\n",
              "    .dataframe thead th {\n",
              "        text-align: right;\n",
              "    }\n",
              "</style>\n",
              "<table border=\"1\" class=\"dataframe\">\n",
              "  <thead>\n",
              "    <tr style=\"text-align: right;\">\n",
              "      <th></th>\n",
              "      <th>food</th>\n",
              "      <th>ounces</th>\n",
              "    </tr>\n",
              "  </thead>\n",
              "  <tbody>\n",
              "    <tr>\n",
              "      <th>0</th>\n",
              "      <td>bacon</td>\n",
              "      <td>4.0</td>\n",
              "    </tr>\n",
              "    <tr>\n",
              "      <th>1</th>\n",
              "      <td>pulled pork</td>\n",
              "      <td>3.0</td>\n",
              "    </tr>\n",
              "    <tr>\n",
              "      <th>2</th>\n",
              "      <td>bacon</td>\n",
              "      <td>12.0</td>\n",
              "    </tr>\n",
              "    <tr>\n",
              "      <th>3</th>\n",
              "      <td>pastrami</td>\n",
              "      <td>6.0</td>\n",
              "    </tr>\n",
              "    <tr>\n",
              "      <th>4</th>\n",
              "      <td>corned beef</td>\n",
              "      <td>7.5</td>\n",
              "    </tr>\n",
              "    <tr>\n",
              "      <th>5</th>\n",
              "      <td>Bacon</td>\n",
              "      <td>8.0</td>\n",
              "    </tr>\n",
              "    <tr>\n",
              "      <th>6</th>\n",
              "      <td>pastrami</td>\n",
              "      <td>3.0</td>\n",
              "    </tr>\n",
              "    <tr>\n",
              "      <th>7</th>\n",
              "      <td>honey ham</td>\n",
              "      <td>5.0</td>\n",
              "    </tr>\n",
              "  </tbody>\n",
              "</table>\n",
              "</div>"
            ],
            "text/plain": [
              "          food  ounces\n",
              "0        bacon     4.0\n",
              "1  pulled pork     3.0\n",
              "2        bacon    12.0\n",
              "3     pastrami     6.0\n",
              "4  corned beef     7.5\n",
              "5        Bacon     8.0\n",
              "6     pastrami     3.0\n",
              "7    honey ham     5.0"
            ]
          },
          "metadata": {
            "tags": []
          },
          "execution_count": 45
        }
      ]
    },
    {
      "cell_type": "markdown",
      "metadata": {
        "id": "8LCvY0BLSGfo"
      },
      "source": [
        "We can add a column showing what animal each type of meat came from. To do this, we can create a map and then apply the map to a column of the dataframe. We can add the result as a new column. "
      ]
    },
    {
      "cell_type": "code",
      "metadata": {
        "id": "MhRysLGGFl1f"
      },
      "source": [
        "meat_to_animal = {\r\n",
        "    'bacon': 'pig',\r\n",
        "    'pulled pork': 'pig',\r\n",
        "    'pastrami':'cow',\r\n",
        "    'corned beef':'cow',\r\n",
        "    'honey ham':'pig'\r\n",
        "}\r\n",
        "data['food'] = data['food'].str.lower()\r\n",
        "data['animal'] = data['food'].map(meat_to_animal)\r\n"
      ],
      "execution_count": 46,
      "outputs": []
    },
    {
      "cell_type": "markdown",
      "metadata": {
        "id": "Kh5Em5GkSQBX"
      },
      "source": [
        "Finally, we can group purchases together based on type of meat. In this case, we have multiple entries for bacon and pastrami. We can combine these rows into one row, and apply a mean function to the number of ounces to show the mean number of ounces of each purchase at the deli counter. We can also display the total number of ounces in another column. "
      ]
    },
    {
      "cell_type": "code",
      "metadata": {
        "id": "dyjdjZHjIntV",
        "outputId": "18ee3c98-f323-4e69-edc7-5efcdaa9f39f",
        "colab": {
          "base_uri": "https://localhost:8080/",
          "height": 204
        }
      },
      "source": [
        "data['total'] = data['ounces']\r\n",
        "data = data.groupby('food').agg({'ounces': 'mean', 'animal': 'first', 'total':'sum'}).reset_index()\r\n",
        "data.columns = ['mean ounces' if x=='ounces' else x for x in data.columns]\r\n",
        "\r\n",
        "data"
      ],
      "execution_count": 47,
      "outputs": [
        {
          "output_type": "execute_result",
          "data": {
            "text/html": [
              "<div>\n",
              "<style scoped>\n",
              "    .dataframe tbody tr th:only-of-type {\n",
              "        vertical-align: middle;\n",
              "    }\n",
              "\n",
              "    .dataframe tbody tr th {\n",
              "        vertical-align: top;\n",
              "    }\n",
              "\n",
              "    .dataframe thead th {\n",
              "        text-align: right;\n",
              "    }\n",
              "</style>\n",
              "<table border=\"1\" class=\"dataframe\">\n",
              "  <thead>\n",
              "    <tr style=\"text-align: right;\">\n",
              "      <th></th>\n",
              "      <th>food</th>\n",
              "      <th>mean ounces</th>\n",
              "      <th>animal</th>\n",
              "      <th>total</th>\n",
              "    </tr>\n",
              "  </thead>\n",
              "  <tbody>\n",
              "    <tr>\n",
              "      <th>0</th>\n",
              "      <td>bacon</td>\n",
              "      <td>8.0</td>\n",
              "      <td>pig</td>\n",
              "      <td>24.0</td>\n",
              "    </tr>\n",
              "    <tr>\n",
              "      <th>1</th>\n",
              "      <td>corned beef</td>\n",
              "      <td>7.5</td>\n",
              "      <td>cow</td>\n",
              "      <td>7.5</td>\n",
              "    </tr>\n",
              "    <tr>\n",
              "      <th>2</th>\n",
              "      <td>honey ham</td>\n",
              "      <td>5.0</td>\n",
              "      <td>pig</td>\n",
              "      <td>5.0</td>\n",
              "    </tr>\n",
              "    <tr>\n",
              "      <th>3</th>\n",
              "      <td>pastrami</td>\n",
              "      <td>4.5</td>\n",
              "      <td>cow</td>\n",
              "      <td>9.0</td>\n",
              "    </tr>\n",
              "    <tr>\n",
              "      <th>4</th>\n",
              "      <td>pulled pork</td>\n",
              "      <td>3.0</td>\n",
              "      <td>pig</td>\n",
              "      <td>3.0</td>\n",
              "    </tr>\n",
              "  </tbody>\n",
              "</table>\n",
              "</div>"
            ],
            "text/plain": [
              "          food  mean ounces animal  total\n",
              "0        bacon          8.0    pig   24.0\n",
              "1  corned beef          7.5    cow    7.5\n",
              "2    honey ham          5.0    pig    5.0\n",
              "3     pastrami          4.5    cow    9.0\n",
              "4  pulled pork          3.0    pig    3.0"
            ]
          },
          "metadata": {
            "tags": []
          },
          "execution_count": 47
        }
      ]
    },
    {
      "cell_type": "markdown",
      "metadata": {
        "id": "IYlLWC_VE-XR"
      },
      "source": [
        "### Scikit-Learn Example\r\n",
        "In the following example, we'll go through importing some python libraries and working with a provided dataset to demonstrate a simple computer vision problem"
      ]
    },
    {
      "cell_type": "markdown",
      "metadata": {
        "id": "-eSKJw9XFNDP"
      },
      "source": [
        "To start, we'll import some essential libraries for visualizing our results and working with provided datasets. Note that we also import an svm classifier."
      ]
    },
    {
      "cell_type": "code",
      "metadata": {
        "id": "IQejLUfeYasd"
      },
      "source": [
        "import matplotlib.pyplot as plt\r\n",
        "from sklearn import datasets, svm, metrics\r\n",
        "from sklearn.model_selection import train_test_split"
      ],
      "execution_count": null,
      "outputs": []
    },
    {
      "cell_type": "markdown",
      "metadata": {
        "id": "Wd_M2QMEFszw"
      },
      "source": [
        "Next, we import the digits dataset. This dataset contains images of handwritten digits. In this example, we'll be teaching a machine to recognize the handwritten digits."
      ]
    },
    {
      "cell_type": "code",
      "metadata": {
        "id": "5lhuayXsYzWM"
      },
      "source": [
        "digits = datasets.load_digits()"
      ],
      "execution_count": null,
      "outputs": []
    },
    {
      "cell_type": "markdown",
      "metadata": {
        "id": "oFn5Ie7OF3NS"
      },
      "source": [
        "Using matplotlib, we can visualize some of our training data that we just imported. These images have labels that are shown above the image"
      ]
    },
    {
      "cell_type": "code",
      "metadata": {
        "colab": {
          "base_uri": "https://localhost:8080/",
          "height": 120
        },
        "id": "Y9Dn3NHbY6Bh",
        "outputId": "a17d2f22-523e-4e21-904b-e438775984a7"
      },
      "source": [
        "_, axes = plt.subplots(1,4)\r\n",
        "images_and_labels = list(zip(digits.images, digits.target))\r\n",
        "for ax, (image,label) in zip(axes[:], images_and_labels[:4]):\r\n",
        "  ax.set_axis_off()\r\n",
        "  ax.imshow(image, cmap=plt.cm.gray_r, interpolation='nearest')\r\n",
        "  ax.set_title('Training: %i' % label)"
      ],
      "execution_count": null,
      "outputs": [
        {
          "output_type": "display_data",
          "data": {
            "image/png": "[encoded data removed]",
            "text/plain": [
              "<Figure size 432x288 with 4 Axes>"
            ]
          },
          "metadata": {
            "tags": [],
            "needs_background": "light"
          }
        }
      ]
    },
    {
      "cell_type": "markdown",
      "metadata": {
        "id": "1MeXYd2iGBtH"
      },
      "source": [
        "Next, we prepare our data for training by putting it into the correct format for an svm classifier. "
      ]
    },
    {
      "cell_type": "code",
      "metadata": {
        "id": "eEsuuYoa-fll"
      },
      "source": [
        "n_samples = len(digits.images)\r\n",
        "data = digits.images.reshape((n_samples, -1))"
      ],
      "execution_count": null,
      "outputs": []
    },
    {
      "cell_type": "markdown",
      "metadata": {
        "id": "4UYSDEE1LEcE"
      },
      "source": [
        "We create an SVC classifier with a gamma value of .001. Gamma dictates how to scale each feature that is being considered."
      ]
    },
    {
      "cell_type": "code",
      "metadata": {
        "id": "WQTGcSzr-lrr"
      },
      "source": [
        "classifier = svm.SVC(gamma=.001)"
      ],
      "execution_count": null,
      "outputs": []
    },
    {
      "cell_type": "markdown",
      "metadata": {
        "id": "RJpCndvkMgGD"
      },
      "source": [
        "After creating the classifier, we split our data in training data and testing data. This is done by a predefined function, where we dictate how large of a testing size to have. Then, we fit our classifier to our data. "
      ]
    },
    {
      "cell_type": "code",
      "metadata": {
        "colab": {
          "base_uri": "https://localhost:8080/"
        },
        "id": "tffED6Xe-rNH",
        "outputId": "49984434-9abb-4289-b03f-967497c87560"
      },
      "source": [
        "x_train, x_test, y_train, y_test = train_test_split(data, digits.target, test_size=0.5, shuffle=False)\r\n",
        "classifier.fit(x_train, y_train)"
      ],
      "execution_count": null,
      "outputs": [
        {
          "output_type": "execute_result",
          "data": {
            "text/plain": [
              "SVC(C=1.0, break_ties=False, cache_size=200, class_weight=None, coef0=0.0,\n",
              "    decision_function_shape='ovr', degree=3, gamma=0.001, kernel='rbf',\n",
              "    max_iter=-1, probability=False, random_state=None, shrinking=True,\n",
              "    tol=0.001, verbose=False)"
            ]
          },
          "metadata": {
            "tags": []
          },
          "execution_count": 14
        }
      ]
    },
    {
      "cell_type": "markdown",
      "metadata": {
        "id": "ZB8p3x_AMqJ2"
      },
      "source": [
        "Once the classifier is fit to the training data, we can test it with test data by calling the predict function. "
      ]
    },
    {
      "cell_type": "code",
      "metadata": {
        "id": "JO_iDDjJ-10-"
      },
      "source": [
        "predicted = classifier.predict(x_test)"
      ],
      "execution_count": null,
      "outputs": []
    },
    {
      "cell_type": "markdown",
      "metadata": {
        "id": "pMXdaeMZM5sU"
      },
      "source": [
        "Finally, we visualize some predictions of the test data. "
      ]
    },
    {
      "cell_type": "code",
      "metadata": {
        "colab": {
          "base_uri": "https://localhost:8080/",
          "height": 120
        },
        "id": "Hdhm6Jag--UX",
        "outputId": "9968deaf-7d2d-44b0-9bcd-f137885dfe39"
      },
      "source": [
        "_, axes = plt.subplots(1,4)\r\n",
        "images_and_predictions = list(zip(digits.images[n_samples // 2:], predicted))\r\n",
        "for ax, (image, prediction) in zip(axes[:], images_and_predictions[:4]):\r\n",
        "    ax.set_axis_off()\r\n",
        "    ax.imshow(image, cmap=plt.cm.gray_r, interpolation='nearest')\r\n",
        "    ax.set_title('Prediction: %i' % prediction)"
      ],
      "execution_count": null,
      "outputs": [
        {
          "output_type": "display_data",
          "data": {
            "image/png": "[encoded data removed]",
            "text/plain": [
              "<Figure size 432x288 with 4 Axes>"
            ]
          },
          "metadata": {
            "tags": [],
            "needs_background": "light"
          }
        }
      ]
    },
    {
      "cell_type": "markdown",
      "metadata": {
        "id": "XH7ZX_d0T8Qr"
      },
      "source": [
        "### Tensorflow/Keras Example"
      ]
    },
    {
      "cell_type": "code",
      "metadata": {
        "id": "EOAdRtRHT_m1"
      },
      "source": [
        "import imutils\r\n",
        "\r\n",
        "def sliding_window(image, step, ws):\r\n",
        "  #slide window across image\r\n",
        "  for y in range(0, image.shape[0] - ws[1], step):\r\n",
        "    for x in range(0, image.shape[1] - ws[0], step):\r\n",
        "      #yield the current window\r\n",
        "      yield(x, y, image[y:y+ws[1], x:x+ws[0]])\r\n",
        "\r\n",
        "def image_pyramid(image, scale=1.5, minSize=(224,224)):"
      ],
      "execution_count": null,
      "outputs": []
    }
  ]
}